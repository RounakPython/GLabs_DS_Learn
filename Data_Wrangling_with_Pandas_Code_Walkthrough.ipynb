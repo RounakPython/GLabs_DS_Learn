{
  "nbformat": 4,
  "nbformat_minor": 0,
  "metadata": {
    "kernelspec": {
      "display_name": "Python 3",
      "language": "python",
      "name": "python3"
    },
    "language_info": {
      "codemirror_mode": {
        "name": "ipython",
        "version": 3
      },
      "file_extension": ".py",
      "mimetype": "text/x-python",
      "name": "python",
      "nbconvert_exporter": "python",
      "pygments_lexer": "ipython3",
      "version": "3.6.5"
    },
    "colab": {
      "name": "Data Wrangling with Pandas - Code Walkthrough.ipynb",
      "provenance": [],
      "collapsed_sections": [],
      "include_colab_link": true
    }
  },
  "cells": [
    {
      "cell_type": "markdown",
      "metadata": {
        "id": "view-in-github",
        "colab_type": "text"
      },
      "source": [
        "<a href=\"https://colab.research.google.com/github/RounakPython/GLabs_DS_Learn/blob/master/Data_Wrangling_with_Pandas_Code_Walkthrough.ipynb\" target=\"_parent\"><img src=\"https://colab.research.google.com/assets/colab-badge.svg\" alt=\"Open In Colab\"/></a>"
      ]
    },
    {
      "cell_type": "markdown",
      "metadata": {
        "id": "shr51cQy-Eu-",
        "colab_type": "text"
      },
      "source": [
        "# Bank Market Analysis\n",
        "\n",
        "\n",
        "\n",
        "There has been a revenue decline for the Portuguese bank and they would like to know what actions to take. After investigation, we found out that the root cause is that their clients are not depositing as frequently as before. Knowing that term deposits allow banks to hold onto a deposit for a specific amount of time, so banks can invest in higher gain financial products to make a profit. In addition, banks also hold better chance to persuade term deposit clients into buying other products such as funds or insurance to further increase their revenues. As a result, the Portuguese bank would like to identify existing clients that have higher chance to subscribe for a term deposit and focus marketing effort on such clients. In this code along we are doing the data analysis using the pandas.\n",
        "\n",
        "\n",
        "## Understanding the dataset\n",
        "\n",
        "**Data Set Information**\n",
        "\n",
        "The data is related to direct marketing campaigns of a Portuguese banking institution. The marketing campaigns were based on phone calls. Often, more than one contact to the same client was required, in order to access if the product (bank term deposit) would be ('yes') or not ('no') subscribed.\n",
        "There are four datasets:\n",
        "bank-additional-full.csv with all examples (41188) and 20 inputs, ordered by date (from May 2008 to November 2010), very close to the data analyzed in [Moro et al., 2014]\n",
        "bank-additional.csv with 10% of the examples (4119), randomly selected from 1), and 20 inputs.\n",
        "bank-full.csv with all examples and 17 inputs, ordered by date (older version of this dataset with fewer inputs).\n",
        "bank.csv with 10% of the examples and 17 inputs, randomly selected from 3 (older version of this dataset with fewer inputs). The smallest datasets are provided to test more computationally demanding machine learning algorithms \n",
        "Goal:- The classification goal is to predict if the client will subscribe (yes/no) a term deposit (variable y).\n",
        "\n",
        "**Features**\n",
        "\n",
        "|Feature|Feature_Type|Description|\n",
        "|-----|-----|-----|\n",
        "|age|numeric|age of a person|  \n",
        "|job |Categorigol,nominal|type of job ('admin.','blue-collar','entrepreneur','housemaid','management','retired','self-employed','services','student','technician','unemployed','unknown')|  \n",
        "|marital|categorical,nominal|marital status ('divorced','married','single','unknown'; note: 'divorced' means divorced or widowed)|  \n",
        "|education|categorical,nominal| ('basic.4y','basic.6y','basic.9y','high.school','illiterate','professional.course','university.degree','unknown') | \n",
        "|default|categorical,nominal| has credit in default? ('no','yes','unknown')|  \n",
        "|housing|categorical,nominal| has housing loan? ('no','yes','unknown')|  \n",
        "|loan|categorical,nominal| has personal loan? ('no','yes','unknown')|  \n",
        "|contact|categorical,nominal| contact communication type ('cellular','telephone')|  \n",
        "|month|categorical,ordinal| last contact month of year ('jan', 'feb', 'mar', ..., 'nov', 'dec')| \n",
        "|day_of_week|categorical,ordinal| last contact day of the week ('mon','tue','wed','thu','fri')|  \n",
        "|duration|numeric| last contact duration, in seconds . Important note: this attribute highly affects the output target (e.g., if duration=0 then y='no')|\n",
        "|campaign|numeric|number of contacts performed during this campaign and for this client (includes last contact)|  \n",
        "|pdays|numeric| number of days that passed by after the client was last contacted from a previous campaign (999 means client was not previously contacted)|  \n",
        "|previous|numeric| number of contacts performed before this campaign and for this client|  \n",
        "|poutcome|categorical,nominal| outcome of the previous marketing campaign ('failure','nonexistent','success')|  \n",
        "|emp.var.rate|numeric|employment variation rate - quarterly indicator|  \n",
        "|cons.price.idx|numeric| consumer price index - monthly indicator|  \n",
        "|cons.conf.idx|numeric| consumer confidence index - monthly indicator|  \n",
        "|euribor3m|numeric|euribor 3 month rate - daily indicator|\n",
        "|nr.employed|numeric| number of employees - quarterly indicator|   \n",
        "|y | binary| has the client subscribed a term deposit? ('yes','no')|\n",
        "\n"
      ]
    },
    {
      "cell_type": "markdown",
      "metadata": {
        "id": "4r3L62bj-EvB",
        "colab_type": "text"
      },
      "source": [
        "### Read the data"
      ]
    },
    {
      "cell_type": "code",
      "metadata": {
        "id": "HBKq4jDL-EvC",
        "colab_type": "code",
        "outputId": "39e488df-9ddf-4e0e-c952-af7f2f1c1758",
        "colab": {
          "base_uri": "https://localhost:8080/",
          "height": 359
        }
      },
      "source": [
        "import numpy as np\n",
        "import pandas as pd\n",
        "\n",
        "# Code starts here\n",
        "with open('/content/sample_data/bank.csv') as fl:\n",
        "  bank = pd.read_csv(fl, sep=';')\n",
        "\n",
        "bank.head(10)"
      ],
      "execution_count": 0,
      "outputs": [
        {
          "output_type": "execute_result",
          "data": {
            "text/html": [
              "<div>\n",
              "<style scoped>\n",
              "    .dataframe tbody tr th:only-of-type {\n",
              "        vertical-align: middle;\n",
              "    }\n",
              "\n",
              "    .dataframe tbody tr th {\n",
              "        vertical-align: top;\n",
              "    }\n",
              "\n",
              "    .dataframe thead th {\n",
              "        text-align: right;\n",
              "    }\n",
              "</style>\n",
              "<table border=\"1\" class=\"dataframe\">\n",
              "  <thead>\n",
              "    <tr style=\"text-align: right;\">\n",
              "      <th></th>\n",
              "      <th>age</th>\n",
              "      <th>job</th>\n",
              "      <th>marital</th>\n",
              "      <th>education</th>\n",
              "      <th>default</th>\n",
              "      <th>balance</th>\n",
              "      <th>housing</th>\n",
              "      <th>loan</th>\n",
              "      <th>contact</th>\n",
              "      <th>day</th>\n",
              "      <th>month</th>\n",
              "      <th>duration</th>\n",
              "      <th>campaign</th>\n",
              "      <th>pdays</th>\n",
              "      <th>previous</th>\n",
              "      <th>poutcome</th>\n",
              "      <th>y</th>\n",
              "    </tr>\n",
              "  </thead>\n",
              "  <tbody>\n",
              "    <tr>\n",
              "      <th>0</th>\n",
              "      <td>30</td>\n",
              "      <td>unemployed</td>\n",
              "      <td>married</td>\n",
              "      <td>primary</td>\n",
              "      <td>no</td>\n",
              "      <td>1787</td>\n",
              "      <td>no</td>\n",
              "      <td>no</td>\n",
              "      <td>cellular</td>\n",
              "      <td>19</td>\n",
              "      <td>oct</td>\n",
              "      <td>79</td>\n",
              "      <td>1</td>\n",
              "      <td>-1</td>\n",
              "      <td>0</td>\n",
              "      <td>unknown</td>\n",
              "      <td>no</td>\n",
              "    </tr>\n",
              "    <tr>\n",
              "      <th>1</th>\n",
              "      <td>33</td>\n",
              "      <td>services</td>\n",
              "      <td>married</td>\n",
              "      <td>secondary</td>\n",
              "      <td>no</td>\n",
              "      <td>4789</td>\n",
              "      <td>yes</td>\n",
              "      <td>yes</td>\n",
              "      <td>cellular</td>\n",
              "      <td>11</td>\n",
              "      <td>may</td>\n",
              "      <td>220</td>\n",
              "      <td>1</td>\n",
              "      <td>339</td>\n",
              "      <td>4</td>\n",
              "      <td>failure</td>\n",
              "      <td>no</td>\n",
              "    </tr>\n",
              "    <tr>\n",
              "      <th>2</th>\n",
              "      <td>35</td>\n",
              "      <td>management</td>\n",
              "      <td>single</td>\n",
              "      <td>tertiary</td>\n",
              "      <td>no</td>\n",
              "      <td>1350</td>\n",
              "      <td>yes</td>\n",
              "      <td>no</td>\n",
              "      <td>cellular</td>\n",
              "      <td>16</td>\n",
              "      <td>apr</td>\n",
              "      <td>185</td>\n",
              "      <td>1</td>\n",
              "      <td>330</td>\n",
              "      <td>1</td>\n",
              "      <td>failure</td>\n",
              "      <td>no</td>\n",
              "    </tr>\n",
              "    <tr>\n",
              "      <th>3</th>\n",
              "      <td>30</td>\n",
              "      <td>management</td>\n",
              "      <td>married</td>\n",
              "      <td>tertiary</td>\n",
              "      <td>no</td>\n",
              "      <td>1476</td>\n",
              "      <td>yes</td>\n",
              "      <td>yes</td>\n",
              "      <td>unknown</td>\n",
              "      <td>3</td>\n",
              "      <td>jun</td>\n",
              "      <td>199</td>\n",
              "      <td>4</td>\n",
              "      <td>-1</td>\n",
              "      <td>0</td>\n",
              "      <td>unknown</td>\n",
              "      <td>no</td>\n",
              "    </tr>\n",
              "    <tr>\n",
              "      <th>4</th>\n",
              "      <td>59</td>\n",
              "      <td>blue-collar</td>\n",
              "      <td>married</td>\n",
              "      <td>secondary</td>\n",
              "      <td>no</td>\n",
              "      <td>0</td>\n",
              "      <td>yes</td>\n",
              "      <td>no</td>\n",
              "      <td>unknown</td>\n",
              "      <td>5</td>\n",
              "      <td>may</td>\n",
              "      <td>226</td>\n",
              "      <td>1</td>\n",
              "      <td>-1</td>\n",
              "      <td>0</td>\n",
              "      <td>unknown</td>\n",
              "      <td>no</td>\n",
              "    </tr>\n",
              "    <tr>\n",
              "      <th>5</th>\n",
              "      <td>35</td>\n",
              "      <td>management</td>\n",
              "      <td>single</td>\n",
              "      <td>tertiary</td>\n",
              "      <td>no</td>\n",
              "      <td>747</td>\n",
              "      <td>no</td>\n",
              "      <td>no</td>\n",
              "      <td>cellular</td>\n",
              "      <td>23</td>\n",
              "      <td>feb</td>\n",
              "      <td>141</td>\n",
              "      <td>2</td>\n",
              "      <td>176</td>\n",
              "      <td>3</td>\n",
              "      <td>failure</td>\n",
              "      <td>no</td>\n",
              "    </tr>\n",
              "    <tr>\n",
              "      <th>6</th>\n",
              "      <td>36</td>\n",
              "      <td>self-employed</td>\n",
              "      <td>married</td>\n",
              "      <td>tertiary</td>\n",
              "      <td>no</td>\n",
              "      <td>307</td>\n",
              "      <td>yes</td>\n",
              "      <td>no</td>\n",
              "      <td>cellular</td>\n",
              "      <td>14</td>\n",
              "      <td>may</td>\n",
              "      <td>341</td>\n",
              "      <td>1</td>\n",
              "      <td>330</td>\n",
              "      <td>2</td>\n",
              "      <td>other</td>\n",
              "      <td>no</td>\n",
              "    </tr>\n",
              "    <tr>\n",
              "      <th>7</th>\n",
              "      <td>39</td>\n",
              "      <td>technician</td>\n",
              "      <td>married</td>\n",
              "      <td>secondary</td>\n",
              "      <td>no</td>\n",
              "      <td>147</td>\n",
              "      <td>yes</td>\n",
              "      <td>no</td>\n",
              "      <td>cellular</td>\n",
              "      <td>6</td>\n",
              "      <td>may</td>\n",
              "      <td>151</td>\n",
              "      <td>2</td>\n",
              "      <td>-1</td>\n",
              "      <td>0</td>\n",
              "      <td>unknown</td>\n",
              "      <td>no</td>\n",
              "    </tr>\n",
              "    <tr>\n",
              "      <th>8</th>\n",
              "      <td>41</td>\n",
              "      <td>entrepreneur</td>\n",
              "      <td>married</td>\n",
              "      <td>tertiary</td>\n",
              "      <td>no</td>\n",
              "      <td>221</td>\n",
              "      <td>yes</td>\n",
              "      <td>no</td>\n",
              "      <td>unknown</td>\n",
              "      <td>14</td>\n",
              "      <td>may</td>\n",
              "      <td>57</td>\n",
              "      <td>2</td>\n",
              "      <td>-1</td>\n",
              "      <td>0</td>\n",
              "      <td>unknown</td>\n",
              "      <td>no</td>\n",
              "    </tr>\n",
              "    <tr>\n",
              "      <th>9</th>\n",
              "      <td>43</td>\n",
              "      <td>services</td>\n",
              "      <td>married</td>\n",
              "      <td>primary</td>\n",
              "      <td>no</td>\n",
              "      <td>-88</td>\n",
              "      <td>yes</td>\n",
              "      <td>yes</td>\n",
              "      <td>cellular</td>\n",
              "      <td>17</td>\n",
              "      <td>apr</td>\n",
              "      <td>313</td>\n",
              "      <td>1</td>\n",
              "      <td>147</td>\n",
              "      <td>2</td>\n",
              "      <td>failure</td>\n",
              "      <td>no</td>\n",
              "    </tr>\n",
              "  </tbody>\n",
              "</table>\n",
              "</div>"
            ],
            "text/plain": [
              "   age            job  marital  education  ... pdays  previous poutcome   y\n",
              "0   30     unemployed  married    primary  ...    -1         0  unknown  no\n",
              "1   33       services  married  secondary  ...   339         4  failure  no\n",
              "2   35     management   single   tertiary  ...   330         1  failure  no\n",
              "3   30     management  married   tertiary  ...    -1         0  unknown  no\n",
              "4   59    blue-collar  married  secondary  ...    -1         0  unknown  no\n",
              "5   35     management   single   tertiary  ...   176         3  failure  no\n",
              "6   36  self-employed  married   tertiary  ...   330         2    other  no\n",
              "7   39     technician  married  secondary  ...    -1         0  unknown  no\n",
              "8   41   entrepreneur  married   tertiary  ...    -1         0  unknown  no\n",
              "9   43       services  married    primary  ...   147         2  failure  no\n",
              "\n",
              "[10 rows x 17 columns]"
            ]
          },
          "metadata": {
            "tags": []
          },
          "execution_count": 2
        }
      ]
    },
    {
      "cell_type": "code",
      "metadata": {
        "id": "ubAqSDy_Fnrh",
        "colab_type": "code",
        "outputId": "69f04734-05ee-46a5-98d3-4ae2b39e53c4",
        "colab": {
          "base_uri": "https://localhost:8080/",
          "height": 297
        }
      },
      "source": [
        "bank.describe()"
      ],
      "execution_count": 0,
      "outputs": [
        {
          "output_type": "execute_result",
          "data": {
            "text/html": [
              "<div>\n",
              "<style scoped>\n",
              "    .dataframe tbody tr th:only-of-type {\n",
              "        vertical-align: middle;\n",
              "    }\n",
              "\n",
              "    .dataframe tbody tr th {\n",
              "        vertical-align: top;\n",
              "    }\n",
              "\n",
              "    .dataframe thead th {\n",
              "        text-align: right;\n",
              "    }\n",
              "</style>\n",
              "<table border=\"1\" class=\"dataframe\">\n",
              "  <thead>\n",
              "    <tr style=\"text-align: right;\">\n",
              "      <th></th>\n",
              "      <th>age</th>\n",
              "      <th>balance</th>\n",
              "      <th>day</th>\n",
              "      <th>duration</th>\n",
              "      <th>campaign</th>\n",
              "      <th>pdays</th>\n",
              "      <th>previous</th>\n",
              "    </tr>\n",
              "  </thead>\n",
              "  <tbody>\n",
              "    <tr>\n",
              "      <th>count</th>\n",
              "      <td>4521.000000</td>\n",
              "      <td>4521.000000</td>\n",
              "      <td>4521.000000</td>\n",
              "      <td>4521.000000</td>\n",
              "      <td>4521.000000</td>\n",
              "      <td>4521.000000</td>\n",
              "      <td>4521.000000</td>\n",
              "    </tr>\n",
              "    <tr>\n",
              "      <th>mean</th>\n",
              "      <td>41.170095</td>\n",
              "      <td>1422.657819</td>\n",
              "      <td>15.915284</td>\n",
              "      <td>263.961292</td>\n",
              "      <td>2.793630</td>\n",
              "      <td>39.766645</td>\n",
              "      <td>0.542579</td>\n",
              "    </tr>\n",
              "    <tr>\n",
              "      <th>std</th>\n",
              "      <td>10.576211</td>\n",
              "      <td>3009.638142</td>\n",
              "      <td>8.247667</td>\n",
              "      <td>259.856633</td>\n",
              "      <td>3.109807</td>\n",
              "      <td>100.121124</td>\n",
              "      <td>1.693562</td>\n",
              "    </tr>\n",
              "    <tr>\n",
              "      <th>min</th>\n",
              "      <td>19.000000</td>\n",
              "      <td>-3313.000000</td>\n",
              "      <td>1.000000</td>\n",
              "      <td>4.000000</td>\n",
              "      <td>1.000000</td>\n",
              "      <td>-1.000000</td>\n",
              "      <td>0.000000</td>\n",
              "    </tr>\n",
              "    <tr>\n",
              "      <th>25%</th>\n",
              "      <td>33.000000</td>\n",
              "      <td>69.000000</td>\n",
              "      <td>9.000000</td>\n",
              "      <td>104.000000</td>\n",
              "      <td>1.000000</td>\n",
              "      <td>-1.000000</td>\n",
              "      <td>0.000000</td>\n",
              "    </tr>\n",
              "    <tr>\n",
              "      <th>50%</th>\n",
              "      <td>39.000000</td>\n",
              "      <td>444.000000</td>\n",
              "      <td>16.000000</td>\n",
              "      <td>185.000000</td>\n",
              "      <td>2.000000</td>\n",
              "      <td>-1.000000</td>\n",
              "      <td>0.000000</td>\n",
              "    </tr>\n",
              "    <tr>\n",
              "      <th>75%</th>\n",
              "      <td>49.000000</td>\n",
              "      <td>1480.000000</td>\n",
              "      <td>21.000000</td>\n",
              "      <td>329.000000</td>\n",
              "      <td>3.000000</td>\n",
              "      <td>-1.000000</td>\n",
              "      <td>0.000000</td>\n",
              "    </tr>\n",
              "    <tr>\n",
              "      <th>max</th>\n",
              "      <td>87.000000</td>\n",
              "      <td>71188.000000</td>\n",
              "      <td>31.000000</td>\n",
              "      <td>3025.000000</td>\n",
              "      <td>50.000000</td>\n",
              "      <td>871.000000</td>\n",
              "      <td>25.000000</td>\n",
              "    </tr>\n",
              "  </tbody>\n",
              "</table>\n",
              "</div>"
            ],
            "text/plain": [
              "               age       balance  ...        pdays     previous\n",
              "count  4521.000000   4521.000000  ...  4521.000000  4521.000000\n",
              "mean     41.170095   1422.657819  ...    39.766645     0.542579\n",
              "std      10.576211   3009.638142  ...   100.121124     1.693562\n",
              "min      19.000000  -3313.000000  ...    -1.000000     0.000000\n",
              "25%      33.000000     69.000000  ...    -1.000000     0.000000\n",
              "50%      39.000000    444.000000  ...    -1.000000     0.000000\n",
              "75%      49.000000   1480.000000  ...    -1.000000     0.000000\n",
              "max      87.000000  71188.000000  ...   871.000000    25.000000\n",
              "\n",
              "[8 rows x 7 columns]"
            ]
          },
          "metadata": {
            "tags": []
          },
          "execution_count": 3
        }
      ]
    },
    {
      "cell_type": "markdown",
      "metadata": {
        "id": "kQseFscL-EvM",
        "colab_type": "text"
      },
      "source": [
        "### Replace the `unknown` values with the `Nan` and check the value count of missing values and drop the missing rows"
      ]
    },
    {
      "cell_type": "code",
      "metadata": {
        "scrolled": true,
        "id": "r8CW2y21-EvN",
        "colab_type": "code",
        "outputId": "cfb765eb-9278-45b5-929c-31be6a81025b",
        "colab": {
          "base_uri": "https://localhost:8080/",
          "height": 629
        }
      },
      "source": [
        "# replace the unknown words with nan\n",
        "bank = bank.replace('unknown', np.nan)\n",
        "\n",
        "# check the null values\n",
        "print(bank.isnull().sum())\n",
        "\n",
        "# dropna\n",
        "bank.dropna(inplace=True)\n",
        "\n",
        "# check the null values\n",
        "print(bank.isnull().sum())"
      ],
      "execution_count": 0,
      "outputs": [
        {
          "output_type": "stream",
          "text": [
            "age             0\n",
            "job            38\n",
            "marital         0\n",
            "education     187\n",
            "default         0\n",
            "balance         0\n",
            "housing         0\n",
            "loan            0\n",
            "contact      1324\n",
            "day             0\n",
            "month           0\n",
            "duration        0\n",
            "campaign        0\n",
            "pdays           0\n",
            "previous        0\n",
            "poutcome     3705\n",
            "y               0\n",
            "dtype: int64\n",
            "age          0\n",
            "job          0\n",
            "marital      0\n",
            "education    0\n",
            "default      0\n",
            "balance      0\n",
            "housing      0\n",
            "loan         0\n",
            "contact      0\n",
            "day          0\n",
            "month        0\n",
            "duration     0\n",
            "campaign     0\n",
            "pdays        0\n",
            "previous     0\n",
            "poutcome     0\n",
            "y            0\n",
            "dtype: int64\n"
          ],
          "name": "stdout"
        }
      ]
    },
    {
      "cell_type": "markdown",
      "metadata": {
        "id": "_12jh6o7-EvU",
        "colab_type": "text"
      },
      "source": [
        "### Replace the column name from `loan` to `previous_loan_status` and `y` to `loan_status` "
      ]
    },
    {
      "cell_type": "code",
      "metadata": {
        "id": "bNPSt3i6-EvW",
        "colab_type": "code",
        "outputId": "a85b241f-abce-4dac-e06e-55ebc9d66b50",
        "colab": {
          "base_uri": "https://localhost:8080/",
          "height": 238
        }
      },
      "source": [
        "bank.rename(columns={'loan':'previous_loan_status', 'y':'loan_status'}, inplace=True)\n",
        "print(bank.head(10))"
      ],
      "execution_count": 0,
      "outputs": [
        {
          "output_type": "stream",
          "text": [
            "    age            job  marital  ... previous poutcome  loan_status\n",
            "1    33       services  married  ...        4  failure           no\n",
            "2    35     management   single  ...        1  failure           no\n",
            "5    35     management   single  ...        3  failure           no\n",
            "6    36  self-employed  married  ...        2    other           no\n",
            "9    43       services  married  ...        2  failure           no\n",
            "14   31    blue-collar  married  ...        1  failure           no\n",
            "17   37         admin.   single  ...        2  failure           no\n",
            "19   31       services  married  ...        1    other           no\n",
            "38   33     management  married  ...        2  failure          yes\n",
            "46   55    blue-collar  married  ...        2    other           no\n",
            "\n",
            "[10 rows x 17 columns]\n"
          ],
          "name": "stdout"
        }
      ]
    },
    {
      "cell_type": "markdown",
      "metadata": {
        "id": "a1PtcJEL-Evc",
        "colab_type": "text"
      },
      "source": [
        "## Find out the information of the `job` column."
      ]
    },
    {
      "cell_type": "code",
      "metadata": {
        "id": "QQ9xvMl8-Evd",
        "colab_type": "code",
        "outputId": "911ec89c-1867-43ce-9fe2-c3d1dbcb63cb",
        "colab": {
          "base_uri": "https://localhost:8080/",
          "height": 272
        }
      },
      "source": [
        "# How many different variants of job are there?\n",
        "print(bank['job'].nunique())\n",
        "\n",
        "#Total different types of job\n",
        "print(bank['job'].unique())\n",
        "\n",
        "# Counts for different types of `job`\n",
        "print(bank['job'].value_counts())"
      ],
      "execution_count": 0,
      "outputs": [
        {
          "output_type": "stream",
          "text": [
            "11\n",
            "['services' 'management' 'self-employed' 'blue-collar' 'admin.'\n",
            " 'technician' 'unemployed' 'student' 'retired' 'housemaid' 'entrepreneur']\n",
            "management       177\n",
            "blue-collar      143\n",
            "technician       137\n",
            "admin.           102\n",
            "services          58\n",
            "retired           44\n",
            "self-employed     26\n",
            "entrepreneur      21\n",
            "unemployed        20\n",
            "student           19\n",
            "housemaid         17\n",
            "Name: job, dtype: int64\n"
          ],
          "name": "stdout"
        }
      ]
    },
    {
      "cell_type": "markdown",
      "metadata": {
        "id": "nCZTIRAU-Evj",
        "colab_type": "text"
      },
      "source": [
        "## Check the `loan_status`  approval rate by `job`"
      ]
    },
    {
      "cell_type": "code",
      "metadata": {
        "id": "l24K5BqA-Evl",
        "colab_type": "code",
        "outputId": "e269313b-a7e2-4215-88ac-e430b2441885",
        "colab": {
          "base_uri": "https://localhost:8080/",
          "height": 425
        }
      },
      "source": [
        "print(bank.groupby('job')['loan_status'].value_counts(normalize=True)*100)"
      ],
      "execution_count": 0,
      "outputs": [
        {
          "output_type": "stream",
          "text": [
            "job            loan_status\n",
            "admin.         no             75.490196\n",
            "               yes            24.509804\n",
            "blue-collar    no             88.111888\n",
            "               yes            11.888112\n",
            "entrepreneur   no             85.714286\n",
            "               yes            14.285714\n",
            "housemaid      no             70.588235\n",
            "               yes            29.411765\n",
            "management     no             73.446328\n",
            "               yes            26.553672\n",
            "retired        no             68.181818\n",
            "               yes            31.818182\n",
            "self-employed  no             84.615385\n",
            "               yes            15.384615\n",
            "services       no             75.862069\n",
            "               yes            24.137931\n",
            "student        no             57.894737\n",
            "               yes            42.105263\n",
            "technician     no             78.832117\n",
            "               yes            21.167883\n",
            "unemployed     no             75.000000\n",
            "               yes            25.000000\n",
            "Name: loan_status, dtype: float64\n"
          ],
          "name": "stdout"
        }
      ]
    },
    {
      "cell_type": "markdown",
      "metadata": {
        "id": "m48s2OAy-Evs",
        "colab_type": "text"
      },
      "source": [
        "## Check the percentage of loan approved by `education`"
      ]
    },
    {
      "cell_type": "code",
      "metadata": {
        "id": "Pc7kV_3p-Evt",
        "colab_type": "code",
        "outputId": "2931d58c-8927-46a2-f328-c13a2a838cf1",
        "colab": {
          "base_uri": "https://localhost:8080/",
          "height": 85
        }
      },
      "source": [
        "bank[bank['loan_status']=='yes']['education'].value_counts(normalize=True)*100"
      ],
      "execution_count": 0,
      "outputs": [
        {
          "output_type": "execute_result",
          "data": {
            "text/plain": [
              "secondary    50.292398\n",
              "tertiary     40.935673\n",
              "primary       8.771930\n",
              "Name: education, dtype: float64"
            ]
          },
          "metadata": {
            "tags": []
          },
          "execution_count": 8
        }
      ]
    },
    {
      "cell_type": "markdown",
      "metadata": {
        "id": "sWIYCc-D-Evz",
        "colab_type": "text"
      },
      "source": [
        "## Check the percentage of loan approved by `previous loan status`"
      ]
    },
    {
      "cell_type": "code",
      "metadata": {
        "id": "N58zCdh6-Evz",
        "colab_type": "code",
        "outputId": "ee0c3f67-1718-4ac3-f827-267d963c6267",
        "colab": {
          "base_uri": "https://localhost:8080/",
          "height": 68
        }
      },
      "source": [
        "bank[bank['previous_loan_status']=='yes']['loan_status'].value_counts(normalize=True)*100"
      ],
      "execution_count": 0,
      "outputs": [
        {
          "output_type": "execute_result",
          "data": {
            "text/plain": [
              "no     86.956522\n",
              "yes    13.043478\n",
              "Name: loan_status, dtype: float64"
            ]
          },
          "metadata": {
            "tags": []
          },
          "execution_count": 9
        }
      ]
    },
    {
      "cell_type": "markdown",
      "metadata": {
        "id": "fjMd1XQs-Ev3",
        "colab_type": "text"
      },
      "source": [
        "## Create a pivot table between `loan_status` and `marital ` with values form `age`"
      ]
    },
    {
      "cell_type": "code",
      "metadata": {
        "id": "a-RkbSGj-Ev4",
        "colab_type": "code",
        "outputId": "135c00b1-43bf-4a03-c09f-e68fcaa4e9ff",
        "colab": {
          "base_uri": "https://localhost:8080/",
          "height": 85
        }
      },
      "source": [
        "pivot = bank.pivot_table(index='loan_status', values='age', columns='marital')\n",
        "print(pivot)"
      ],
      "execution_count": 0,
      "outputs": [
        {
          "output_type": "stream",
          "text": [
            "marital       divorced    married     single\n",
            "loan_status                                 \n",
            "no           45.423729  43.416667  33.982759\n",
            "yes          47.809524  46.447917  34.259259\n"
          ],
          "name": "stdout"
        }
      ]
    },
    {
      "cell_type": "markdown",
      "metadata": {
        "id": "wkOt0lyW-Ev7",
        "colab_type": "text"
      },
      "source": [
        "## Loan status based on marital status whose status is married"
      ]
    },
    {
      "cell_type": "code",
      "metadata": {
        "id": "mM33gINi-Ev8",
        "colab_type": "code",
        "outputId": "db31bbb2-9d8c-497c-c9f6-b4c7ad5cccbd",
        "colab": {
          "base_uri": "https://localhost:8080/",
          "height": 68
        }
      },
      "source": [
        "bank[bank['marital'].apply(lambda marital: marital == 'married')]['loan_status'].value_counts()\n"
      ],
      "execution_count": 0,
      "outputs": [
        {
          "output_type": "execute_result",
          "data": {
            "text/plain": [
              "no     360\n",
              "yes     96\n",
              "Name: loan_status, dtype: int64"
            ]
          },
          "metadata": {
            "tags": []
          },
          "execution_count": 14
        }
      ]
    },
    {
      "cell_type": "code",
      "metadata": {
        "id": "zfv3ilbTNyoE",
        "colab_type": "code",
        "outputId": "fc7a6249-c830-4933-a053-013ac2891f9f",
        "colab": {
          "base_uri": "https://localhost:8080/",
          "height": 408
        }
      },
      "source": [
        "# class 1\n",
        "branch_1 = {\n",
        "        'customer_id': ['1', '2', '3', '4', '5'],\n",
        "        'first_name': ['Andrew', 'Alex', 'Sabestian', 'Hilary', 'Jack'], \n",
        "        'last_name': ['Ng', 'Hales', 'Rachaska', 'Masan', 'Anthony']}\n",
        "df_branch_1 = pd.DataFrame(branch_1, columns = ['customer_id', 'first_name', 'last_name'])\n",
        "print(df_branch_1)\n",
        "\n",
        "# class 2\n",
        "branch_2 = {\n",
        "        'customer_id': ['4', '5', '6', '7', '8'],\n",
        "        'first_name': ['Brain', 'Steve', 'Kim', 'Steve', 'Ben'], \n",
        "        'last_name': ['Alexander', 'Jobs', 'Jonas', 'Fleming', 'Richardsan']}\n",
        "df_branch_2 = pd.DataFrame(branch_2, columns = ['customer_id', 'first_name', 'last_name'])\n",
        "print(df_branch_2)\n",
        "\n",
        "# test_score\n",
        "credit_score = {\n",
        "        'customer_id': ['1', '2', '3', '4', '5', '7', '8', '9', '10', '11'],\n",
        "        'score': [513, 675, 165, 961, 1080, 1654, 415, 900, 610, 1116]}\n",
        "df_credit_score = pd.DataFrame(credit_score, columns = ['customer_id','score'])\n",
        "print(df_credit_score)"
      ],
      "execution_count": 0,
      "outputs": [
        {
          "output_type": "stream",
          "text": [
            "  customer_id first_name last_name\n",
            "0           1     Andrew        Ng\n",
            "1           2       Alex     Hales\n",
            "2           3  Sabestian  Rachaska\n",
            "3           4     Hilary     Masan\n",
            "4           5       Jack   Anthony\n",
            "  customer_id first_name   last_name\n",
            "0           4      Brain   Alexander\n",
            "1           5      Steve        Jobs\n",
            "2           6        Kim       Jonas\n",
            "3           7      Steve     Fleming\n",
            "4           8        Ben  Richardsan\n",
            "  customer_id  score\n",
            "0           1    513\n",
            "1           2    675\n",
            "2           3    165\n",
            "3           4    961\n",
            "4           5   1080\n",
            "5           7   1654\n",
            "6           8    415\n",
            "7           9    900\n",
            "8          10    610\n",
            "9          11   1116\n"
          ],
          "name": "stdout"
        }
      ]
    },
    {
      "cell_type": "code",
      "metadata": {
        "id": "UfQxJJvFOev6",
        "colab_type": "code",
        "outputId": "7da7ad28-5477-4add-b486-5f99838abdcd",
        "colab": {
          "base_uri": "https://localhost:8080/",
          "height": 204
        }
      },
      "source": [
        "df_new = pd.concat([df_branch_1, df_branch_2], axis=0)\n",
        "print(df_new)"
      ],
      "execution_count": 0,
      "outputs": [
        {
          "output_type": "stream",
          "text": [
            "  customer_id first_name   last_name\n",
            "0           1     Andrew          Ng\n",
            "1           2       Alex       Hales\n",
            "2           3  Sabestian    Rachaska\n",
            "3           4     Hilary       Masan\n",
            "4           5       Jack     Anthony\n",
            "0           4      Brain   Alexander\n",
            "1           5      Steve        Jobs\n",
            "2           6        Kim       Jonas\n",
            "3           7      Steve     Fleming\n",
            "4           8        Ben  Richardsan\n"
          ],
          "name": "stdout"
        }
      ]
    },
    {
      "cell_type": "code",
      "metadata": {
        "id": "7cT03x2DOxJ3",
        "colab_type": "code",
        "outputId": "7b769e01-329b-4b55-b5e0-f70ab9585c9e",
        "colab": {
          "base_uri": "https://localhost:8080/",
          "height": 328
        }
      },
      "source": [
        "pd.merge(df_new, df_credit_score, left_on='customer_id', right_on='customer_id')"
      ],
      "execution_count": 0,
      "outputs": [
        {
          "output_type": "execute_result",
          "data": {
            "text/html": [
              "<div>\n",
              "<style scoped>\n",
              "    .dataframe tbody tr th:only-of-type {\n",
              "        vertical-align: middle;\n",
              "    }\n",
              "\n",
              "    .dataframe tbody tr th {\n",
              "        vertical-align: top;\n",
              "    }\n",
              "\n",
              "    .dataframe thead th {\n",
              "        text-align: right;\n",
              "    }\n",
              "</style>\n",
              "<table border=\"1\" class=\"dataframe\">\n",
              "  <thead>\n",
              "    <tr style=\"text-align: right;\">\n",
              "      <th></th>\n",
              "      <th>customer_id</th>\n",
              "      <th>first_name</th>\n",
              "      <th>last_name</th>\n",
              "      <th>score</th>\n",
              "    </tr>\n",
              "  </thead>\n",
              "  <tbody>\n",
              "    <tr>\n",
              "      <th>0</th>\n",
              "      <td>1</td>\n",
              "      <td>Andrew</td>\n",
              "      <td>Ng</td>\n",
              "      <td>513</td>\n",
              "    </tr>\n",
              "    <tr>\n",
              "      <th>1</th>\n",
              "      <td>2</td>\n",
              "      <td>Alex</td>\n",
              "      <td>Hales</td>\n",
              "      <td>675</td>\n",
              "    </tr>\n",
              "    <tr>\n",
              "      <th>2</th>\n",
              "      <td>3</td>\n",
              "      <td>Sabestian</td>\n",
              "      <td>Rachaska</td>\n",
              "      <td>165</td>\n",
              "    </tr>\n",
              "    <tr>\n",
              "      <th>3</th>\n",
              "      <td>4</td>\n",
              "      <td>Hilary</td>\n",
              "      <td>Masan</td>\n",
              "      <td>961</td>\n",
              "    </tr>\n",
              "    <tr>\n",
              "      <th>4</th>\n",
              "      <td>4</td>\n",
              "      <td>Brain</td>\n",
              "      <td>Alexander</td>\n",
              "      <td>961</td>\n",
              "    </tr>\n",
              "    <tr>\n",
              "      <th>5</th>\n",
              "      <td>5</td>\n",
              "      <td>Jack</td>\n",
              "      <td>Anthony</td>\n",
              "      <td>1080</td>\n",
              "    </tr>\n",
              "    <tr>\n",
              "      <th>6</th>\n",
              "      <td>5</td>\n",
              "      <td>Steve</td>\n",
              "      <td>Jobs</td>\n",
              "      <td>1080</td>\n",
              "    </tr>\n",
              "    <tr>\n",
              "      <th>7</th>\n",
              "      <td>7</td>\n",
              "      <td>Steve</td>\n",
              "      <td>Fleming</td>\n",
              "      <td>1654</td>\n",
              "    </tr>\n",
              "    <tr>\n",
              "      <th>8</th>\n",
              "      <td>8</td>\n",
              "      <td>Ben</td>\n",
              "      <td>Richardsan</td>\n",
              "      <td>415</td>\n",
              "    </tr>\n",
              "  </tbody>\n",
              "</table>\n",
              "</div>"
            ],
            "text/plain": [
              "  customer_id first_name   last_name  score\n",
              "0           1     Andrew          Ng    513\n",
              "1           2       Alex       Hales    675\n",
              "2           3  Sabestian    Rachaska    165\n",
              "3           4     Hilary       Masan    961\n",
              "4           4      Brain   Alexander    961\n",
              "5           5       Jack     Anthony   1080\n",
              "6           5      Steve        Jobs   1080\n",
              "7           7      Steve     Fleming   1654\n",
              "8           8        Ben  Richardsan    415"
            ]
          },
          "metadata": {
            "tags": []
          },
          "execution_count": 18
        }
      ]
    },
    {
      "cell_type": "code",
      "metadata": {
        "id": "aFzTfL5wPUeT",
        "colab_type": "code",
        "outputId": "260a8dbe-794b-47b7-da44-ed94976d1048",
        "colab": {
          "base_uri": "https://localhost:8080/",
          "height": 328
        }
      },
      "source": [
        "pd.merge(df_new,df_credit_score, how='inner', on='customer_id')"
      ],
      "execution_count": 0,
      "outputs": [
        {
          "output_type": "execute_result",
          "data": {
            "text/html": [
              "<div>\n",
              "<style scoped>\n",
              "    .dataframe tbody tr th:only-of-type {\n",
              "        vertical-align: middle;\n",
              "    }\n",
              "\n",
              "    .dataframe tbody tr th {\n",
              "        vertical-align: top;\n",
              "    }\n",
              "\n",
              "    .dataframe thead th {\n",
              "        text-align: right;\n",
              "    }\n",
              "</style>\n",
              "<table border=\"1\" class=\"dataframe\">\n",
              "  <thead>\n",
              "    <tr style=\"text-align: right;\">\n",
              "      <th></th>\n",
              "      <th>customer_id</th>\n",
              "      <th>first_name</th>\n",
              "      <th>last_name</th>\n",
              "      <th>score</th>\n",
              "    </tr>\n",
              "  </thead>\n",
              "  <tbody>\n",
              "    <tr>\n",
              "      <th>0</th>\n",
              "      <td>1</td>\n",
              "      <td>Andrew</td>\n",
              "      <td>Ng</td>\n",
              "      <td>513</td>\n",
              "    </tr>\n",
              "    <tr>\n",
              "      <th>1</th>\n",
              "      <td>2</td>\n",
              "      <td>Alex</td>\n",
              "      <td>Hales</td>\n",
              "      <td>675</td>\n",
              "    </tr>\n",
              "    <tr>\n",
              "      <th>2</th>\n",
              "      <td>3</td>\n",
              "      <td>Sabestian</td>\n",
              "      <td>Rachaska</td>\n",
              "      <td>165</td>\n",
              "    </tr>\n",
              "    <tr>\n",
              "      <th>3</th>\n",
              "      <td>4</td>\n",
              "      <td>Hilary</td>\n",
              "      <td>Masan</td>\n",
              "      <td>961</td>\n",
              "    </tr>\n",
              "    <tr>\n",
              "      <th>4</th>\n",
              "      <td>4</td>\n",
              "      <td>Brain</td>\n",
              "      <td>Alexander</td>\n",
              "      <td>961</td>\n",
              "    </tr>\n",
              "    <tr>\n",
              "      <th>5</th>\n",
              "      <td>5</td>\n",
              "      <td>Jack</td>\n",
              "      <td>Anthony</td>\n",
              "      <td>1080</td>\n",
              "    </tr>\n",
              "    <tr>\n",
              "      <th>6</th>\n",
              "      <td>5</td>\n",
              "      <td>Steve</td>\n",
              "      <td>Jobs</td>\n",
              "      <td>1080</td>\n",
              "    </tr>\n",
              "    <tr>\n",
              "      <th>7</th>\n",
              "      <td>7</td>\n",
              "      <td>Steve</td>\n",
              "      <td>Fleming</td>\n",
              "      <td>1654</td>\n",
              "    </tr>\n",
              "    <tr>\n",
              "      <th>8</th>\n",
              "      <td>8</td>\n",
              "      <td>Ben</td>\n",
              "      <td>Richardsan</td>\n",
              "      <td>415</td>\n",
              "    </tr>\n",
              "  </tbody>\n",
              "</table>\n",
              "</div>"
            ],
            "text/plain": [
              "  customer_id first_name   last_name  score\n",
              "0           1     Andrew          Ng    513\n",
              "1           2       Alex       Hales    675\n",
              "2           3  Sabestian    Rachaska    165\n",
              "3           4     Hilary       Masan    961\n",
              "4           4      Brain   Alexander    961\n",
              "5           5       Jack     Anthony   1080\n",
              "6           5      Steve        Jobs   1080\n",
              "7           7      Steve     Fleming   1654\n",
              "8           8        Ben  Richardsan    415"
            ]
          },
          "metadata": {
            "tags": []
          },
          "execution_count": 19
        }
      ]
    },
    {
      "cell_type": "code",
      "metadata": {
        "id": "txVRXHoyPj8e",
        "colab_type": "code",
        "colab": {}
      },
      "source": [
        ""
      ],
      "execution_count": 0,
      "outputs": []
    }
  ]
}