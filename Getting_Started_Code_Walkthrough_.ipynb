{
  "nbformat": 4,
  "nbformat_minor": 0,
  "metadata": {
    "kernelspec": {
      "display_name": "Python 3",
      "language": "python",
      "name": "python3"
    },
    "language_info": {
      "codemirror_mode": {
        "name": "ipython",
        "version": 3
      },
      "file_extension": ".py",
      "mimetype": "text/x-python",
      "name": "python",
      "nbconvert_exporter": "python",
      "pygments_lexer": "ipython3",
      "version": "3.7.3"
    },
    "colab": {
      "name": "Getting Started Code Walkthrough .ipynb",
      "provenance": [],
      "include_colab_link": true
    }
  },
  "cells": [
    {
      "cell_type": "markdown",
      "metadata": {
        "id": "view-in-github",
        "colab_type": "text"
      },
      "source": [
        "<a href=\"https://colab.research.google.com/github/RounakPython/GLabs_DS_Learn/blob/master/Getting_Started_Code_Walkthrough_.ipynb\" target=\"_parent\"><img src=\"https://colab.research.google.com/assets/colab-badge.svg\" alt=\"Open In Colab\"/></a>"
      ]
    },
    {
      "cell_type": "markdown",
      "metadata": {
        "id": "hSRbfC2S-L1J",
        "colab_type": "text"
      },
      "source": [
        "# IPL Dataset Analysis\n",
        "\n",
        "## Problem Statement\n",
        "We want to know as to what happens during an IPL match which raises several questions in our mind with our limited knowledge about the game called cricket on which it is based. This analysis is done to know as which factors led one of the team to win and how does it matter."
      ]
    },
    {
      "cell_type": "markdown",
      "metadata": {
        "id": "Dldyuhiz-L1M",
        "colab_type": "text"
      },
      "source": [
        "## About the Dataset :\n",
        "The Indian Premier League (IPL) is a professional T20 cricket league in India contested during April-May of every year by teams representing Indian cities. It is the most-attended cricket league in the world and ranks sixth among all the sports leagues. It has teams with players from around the world and is very competitive and entertaining with a lot of close matches between teams.\n",
        "\n",
        "The IPL and other cricket related datasets are available at [cricsheet.org](https://cricsheet.org/%c2%a0(data). Feel free to visit the website and explore the data by yourself as exploring new sources of data is one of the interesting activities a data scientist gets to do."
      ]
    },
    {
      "cell_type": "markdown",
      "metadata": {
        "id": "SrQ2PrD8-L1O",
        "colab_type": "text"
      },
      "source": [
        "### Analysing data with basic python operation"
      ]
    },
    {
      "cell_type": "markdown",
      "metadata": {
        "id": "Ap0ce1ZM-L1P",
        "colab_type": "text"
      },
      "source": [
        "## Read the data of the format .yaml type"
      ]
    },
    {
      "cell_type": "code",
      "metadata": {
        "id": "6Jw3Yg0d-L1Q",
        "colab_type": "code",
        "colab": {}
      },
      "source": [
        "import yaml"
      ],
      "execution_count": 0,
      "outputs": []
    },
    {
      "cell_type": "code",
      "metadata": {
        "id": "buCmWv8c-L1V",
        "colab_type": "code",
        "colab": {}
      },
      "source": [
        "# using with open command to read the file\n",
        "with open('/content/ipl_match.yaml') as file:\n",
        "    data = yaml.load(file)"
      ],
      "execution_count": 0,
      "outputs": []
    },
    {
      "cell_type": "code",
      "metadata": {
        "id": "1v4D4FiG-L1Y",
        "colab_type": "code",
        "outputId": "b263ee9f-1959-4852-d33a-812c637a1fce",
        "colab": {
          "base_uri": "https://localhost:8080/",
          "height": 54
        }
      },
      "source": [
        "# print data\n",
        "print(data)"
      ],
      "execution_count": 0,
      "outputs": [
        {
          "output_type": "stream",
          "text": [
            "{'meta': {'data_version': 0.9, 'created': datetime.date(2011, 5, 6), 'revision': 2}, 'info': {'city': 'Bangalore', 'competition': 'IPL', 'dates': [datetime.date(2008, 4, 18)], 'gender': 'male', 'match_type': 'T20', 'outcome': {'by': {'runs': 140}, 'winner': 'Kolkata Knight Riders'}, 'overs': 20, 'player_of_match': ['BB McCullum'], 'teams': ['Royal Challengers Bangalore', 'Kolkata Knight Riders'], 'toss': {'decision': 'field', 'winner': 'Royal Challengers Bangalore'}, 'umpires': ['Asad Rauf', 'RE Koertzen'], 'venue': 'M Chinnaswamy Stadium'}, 'innings': [{'1st innings': {'team': 'Kolkata Knight Riders', 'deliveries': [{0.1: {'batsman': 'SC Ganguly', 'bowler': 'P Kumar', 'extras': {'legbyes': 1}, 'non_striker': 'BB McCullum', 'runs': {'batsman': 0, 'extras': 1, 'total': 1}}}, {0.2: {'batsman': 'BB McCullum', 'bowler': 'P Kumar', 'non_striker': 'SC Ganguly', 'runs': {'batsman': 0, 'extras': 0, 'total': 0}}}, {0.3: {'batsman': 'BB McCullum', 'bowler': 'P Kumar', 'extras': {'wides': 1}, 'non_striker': 'SC Ganguly', 'runs': {'batsman': 0, 'extras': 1, 'total': 1}}}, {0.4: {'batsman': 'BB McCullum', 'bowler': 'P Kumar', 'non_striker': 'SC Ganguly', 'runs': {'batsman': 0, 'extras': 0, 'total': 0}}}, {0.5: {'batsman': 'BB McCullum', 'bowler': 'P Kumar', 'non_striker': 'SC Ganguly', 'runs': {'batsman': 0, 'extras': 0, 'total': 0}}}, {0.6: {'batsman': 'BB McCullum', 'bowler': 'P Kumar', 'non_striker': 'SC Ganguly', 'runs': {'batsman': 0, 'extras': 0, 'total': 0}}}, {0.7: {'batsman': 'BB McCullum', 'bowler': 'P Kumar', 'extras': {'legbyes': 1}, 'non_striker': 'SC Ganguly', 'runs': {'batsman': 0, 'extras': 1, 'total': 1}}}, {1.1: {'batsman': 'BB McCullum', 'bowler': 'Z Khan', 'non_striker': 'SC Ganguly', 'runs': {'batsman': 0, 'extras': 0, 'total': 0}}}, {1.2: {'batsman': 'BB McCullum', 'bowler': 'Z Khan', 'non_striker': 'SC Ganguly', 'runs': {'batsman': 4, 'extras': 0, 'total': 4}}}, {1.3: {'batsman': 'BB McCullum', 'bowler': 'Z Khan', 'non_striker': 'SC Ganguly', 'runs': {'batsman': 4, 'extras': 0, 'total': 4}}}, {1.4: {'batsman': 'BB McCullum', 'bowler': 'Z Khan', 'non_striker': 'SC Ganguly', 'runs': {'batsman': 6, 'extras': 0, 'total': 6}}}, {1.5: {'batsman': 'BB McCullum', 'bowler': 'Z Khan', 'non_striker': 'SC Ganguly', 'runs': {'batsman': 4, 'extras': 0, 'total': 4}}}, {1.6: {'batsman': 'BB McCullum', 'bowler': 'Z Khan', 'non_striker': 'SC Ganguly', 'runs': {'batsman': 0, 'extras': 0, 'total': 0}}}, {2.1: {'batsman': 'SC Ganguly', 'bowler': 'P Kumar', 'non_striker': 'BB McCullum', 'runs': {'batsman': 0, 'extras': 0, 'total': 0}}}, {2.2: {'batsman': 'SC Ganguly', 'bowler': 'P Kumar', 'non_striker': 'BB McCullum', 'runs': {'batsman': 0, 'extras': 0, 'total': 0}}}, {2.3: {'batsman': 'SC Ganguly', 'bowler': 'P Kumar', 'extras': {'legbyes': 1}, 'non_striker': 'BB McCullum', 'runs': {'batsman': 0, 'extras': 1, 'total': 1}}}, {2.4: {'batsman': 'BB McCullum', 'bowler': 'P Kumar', 'non_striker': 'SC Ganguly', 'runs': {'batsman': 4, 'extras': 0, 'total': 4}}}, {2.5: {'batsman': 'BB McCullum', 'bowler': 'P Kumar', 'non_striker': 'SC Ganguly', 'runs': {'batsman': 1, 'extras': 0, 'total': 1}}}, {2.6: {'batsman': 'SC Ganguly', 'bowler': 'P Kumar', 'non_striker': 'BB McCullum', 'runs': {'batsman': 0, 'extras': 0, 'total': 0}}}, {3.1: {'batsman': 'BB McCullum', 'bowler': 'AA Noffke', 'extras': {'wides': 5}, 'non_striker': 'SC Ganguly', 'runs': {'batsman': 0, 'extras': 5, 'total': 5}}}, {3.2: {'batsman': 'BB McCullum', 'bowler': 'AA Noffke', 'non_striker': 'SC Ganguly', 'runs': {'batsman': 6, 'extras': 0, 'total': 6}}}, {3.3: {'batsman': 'BB McCullum', 'bowler': 'AA Noffke', 'extras': {'legbyes': 1}, 'non_striker': 'SC Ganguly', 'runs': {'batsman': 0, 'extras': 1, 'total': 1}}}, {3.4: {'batsman': 'SC Ganguly', 'bowler': 'AA Noffke', 'non_striker': 'BB McCullum', 'runs': {'batsman': 4, 'extras': 0, 'total': 4}}}, {3.5: {'batsman': 'SC Ganguly', 'bowler': 'AA Noffke', 'non_striker': 'BB McCullum', 'runs': {'batsman': 0, 'extras': 0, 'total': 0}}}, {3.6: {'batsman': 'SC Ganguly', 'bowler': 'AA Noffke', 'non_striker': 'BB McCullum', 'runs': {'batsman': 1, 'extras': 0, 'total': 1}}}, {3.7: {'batsman': 'BB McCullum', 'bowler': 'AA Noffke', 'non_striker': 'SC Ganguly', 'runs': {'batsman': 6, 'extras': 0, 'total': 6}}}, {4.1: {'batsman': 'SC Ganguly', 'bowler': 'P Kumar', 'non_striker': 'BB McCullum', 'runs': {'batsman': 4, 'extras': 0, 'total': 4}}}, {4.2: {'batsman': 'SC Ganguly', 'bowler': 'P Kumar', 'non_striker': 'BB McCullum', 'runs': {'batsman': 1, 'extras': 0, 'total': 1}}}, {4.3: {'batsman': 'BB McCullum', 'bowler': 'P Kumar', 'non_striker': 'SC Ganguly', 'runs': {'batsman': 4, 'extras': 0, 'total': 4}}}, {4.4: {'batsman': 'BB McCullum', 'bowler': 'P Kumar', 'non_striker': 'SC Ganguly', 'runs': {'batsman': 0, 'extras': 0, 'total': 0}}}, {4.5: {'batsman': 'BB McCullum', 'bowler': 'P Kumar', 'non_striker': 'SC Ganguly', 'runs': {'batsman': 1, 'extras': 0, 'total': 1}}}, {4.6: {'batsman': 'SC Ganguly', 'bowler': 'P Kumar', 'non_striker': 'BB McCullum', 'runs': {'batsman': 0, 'extras': 0, 'total': 0}}}, {5.1: {'batsman': 'BB McCullum', 'bowler': 'Z Khan', 'non_striker': 'SC Ganguly', 'runs': {'batsman': 1, 'extras': 0, 'total': 1}}}, {5.2: {'batsman': 'SC Ganguly', 'bowler': 'Z Khan', 'non_striker': 'BB McCullum', 'runs': {'batsman': 0, 'extras': 0, 'total': 0}, 'wicket': {'fielders': ['JH Kallis'], 'kind': 'caught', 'player_out': 'SC Ganguly'}}}, {5.3: {'batsman': 'RT Ponting', 'bowler': 'Z Khan', 'non_striker': 'BB McCullum', 'runs': {'batsman': 0, 'extras': 0, 'total': 0}}}, {5.4: {'batsman': 'RT Ponting', 'bowler': 'Z Khan', 'non_striker': 'BB McCullum', 'runs': {'batsman': 0, 'extras': 0, 'total': 0}}}, {5.5: {'batsman': 'RT Ponting', 'bowler': 'Z Khan', 'non_striker': 'BB McCullum', 'runs': {'batsman': 0, 'extras': 0, 'total': 0}}}, {5.6: {'batsman': 'RT Ponting', 'bowler': 'Z Khan', 'non_striker': 'BB McCullum', 'runs': {'batsman': 0, 'extras': 0, 'total': 0}}}, {6.1: {'batsman': 'BB McCullum', 'bowler': 'AA Noffke', 'non_striker': 'RT Ponting', 'runs': {'batsman': 1, 'extras': 0, 'total': 1}}}, {6.2: {'batsman': 'RT Ponting', 'bowler': 'AA Noffke', 'non_striker': 'BB McCullum', 'runs': {'batsman': 1, 'extras': 0, 'total': 1}}}, {6.3: {'batsman': 'BB McCullum', 'bowler': 'AA Noffke', 'non_striker': 'RT Ponting', 'runs': {'batsman': 1, 'extras': 0, 'total': 1}}}, {6.4: {'batsman': 'RT Ponting', 'bowler': 'AA Noffke', 'non_striker': 'BB McCullum', 'runs': {'batsman': 2, 'extras': 0, 'total': 2}}}, {6.5: {'batsman': 'RT Ponting', 'bowler': 'AA Noffke', 'non_striker': 'BB McCullum', 'runs': {'batsman': 1, 'extras': 0, 'total': 1}}}, {6.6: {'batsman': 'BB McCullum', 'bowler': 'AA Noffke', 'non_striker': 'RT Ponting', 'runs': {'batsman': 1, 'extras': 0, 'total': 1}}}, {7.1: {'batsman': 'BB McCullum', 'bowler': 'Z Khan', 'non_striker': 'RT Ponting', 'runs': {'batsman': 0, 'extras': 0, 'total': 0}}}, {7.2: {'batsman': 'BB McCullum', 'bowler': 'Z Khan', 'non_striker': 'RT Ponting', 'runs': {'batsman': 1, 'extras': 0, 'total': 1}}}, {7.3: {'batsman': 'RT Ponting', 'bowler': 'Z Khan', 'non_striker': 'BB McCullum', 'runs': {'batsman': 1, 'extras': 0, 'total': 1}}}, {7.4: {'batsman': 'BB McCullum', 'bowler': 'Z Khan', 'non_striker': 'RT Ponting', 'runs': {'batsman': 1, 'extras': 0, 'total': 1}}}, {7.5: {'batsman': 'RT Ponting', 'bowler': 'Z Khan', 'non_striker': 'BB McCullum', 'runs': {'batsman': 1, 'extras': 0, 'total': 1}}}, {7.6: {'batsman': 'BB McCullum', 'bowler': 'Z Khan', 'non_striker': 'RT Ponting', 'runs': {'batsman': 1, 'extras': 0, 'total': 1}}}, {8.1: {'batsman': 'BB McCullum', 'bowler': 'JH Kallis', 'non_striker': 'RT Ponting', 'runs': {'batsman': 0, 'extras': 0, 'total': 0}}}, {8.2: {'batsman': 'BB McCullum', 'bowler': 'JH Kallis', 'non_striker': 'RT Ponting', 'runs': {'batsman': 0, 'extras': 0, 'total': 0}}}, {8.3: {'batsman': 'BB McCullum', 'bowler': 'JH Kallis', 'non_striker': 'RT Ponting', 'runs': {'batsman': 0, 'extras': 0, 'total': 0}}}, {8.4: {'batsman': 'BB McCullum', 'bowler': 'JH Kallis', 'non_striker': 'RT Ponting', 'runs': {'batsman': 1, 'extras': 0, 'total': 1}}}, {8.5: {'batsman': 'RT Ponting', 'bowler': 'JH Kallis', 'non_striker': 'BB McCullum', 'runs': {'batsman': 1, 'extras': 0, 'total': 1}}}, {8.6: {'batsman': 'BB McCullum', 'bowler': 'JH Kallis', 'non_striker': 'RT Ponting', 'runs': {'batsman': 2, 'extras': 0, 'total': 2}}}, {9.1: {'batsman': 'RT Ponting', 'bowler': 'SB Joshi', 'non_striker': 'BB McCullum', 'runs': {'batsman': 1, 'extras': 0, 'total': 1}}}, {9.2: {'batsman': 'BB McCullum', 'bowler': 'SB Joshi', 'non_striker': 'RT Ponting', 'runs': {'batsman': 1, 'extras': 0, 'total': 1}}}, {9.3: {'batsman': 'RT Ponting', 'bowler': 'SB Joshi', 'non_striker': 'BB McCullum', 'runs': {'batsman': 1, 'extras': 0, 'total': 1}}}, {9.4: {'batsman': 'BB McCullum', 'bowler': 'SB Joshi', 'non_striker': 'RT Ponting', 'runs': {'batsman': 0, 'extras': 0, 'total': 0}}}, {9.5: {'batsman': 'BB McCullum', 'bowler': 'SB Joshi', 'non_striker': 'RT Ponting', 'runs': {'batsman': 6, 'extras': 0, 'total': 6}}}, {9.6: {'batsman': 'BB McCullum', 'bowler': 'SB Joshi', 'non_striker': 'RT Ponting', 'runs': {'batsman': 1, 'extras': 0, 'total': 1}}}, {10.1: {'batsman': 'BB McCullum', 'bowler': 'JH Kallis', 'non_striker': 'RT Ponting', 'runs': {'batsman': 1, 'extras': 0, 'total': 1}}}, {10.2: {'batsman': 'RT Ponting', 'bowler': 'JH Kallis', 'non_striker': 'BB McCullum', 'runs': {'batsman': 4, 'extras': 0, 'total': 4}}}, {10.3: {'batsman': 'RT Ponting', 'bowler': 'JH Kallis', 'non_striker': 'BB McCullum', 'runs': {'batsman': 0, 'extras': 0, 'total': 0}}}, {10.4: {'batsman': 'RT Ponting', 'bowler': 'JH Kallis', 'non_striker': 'BB McCullum', 'runs': {'batsman': 6, 'extras': 0, 'total': 6}}}, {10.5: {'batsman': 'RT Ponting', 'bowler': 'JH Kallis', 'non_striker': 'BB McCullum', 'runs': {'batsman': 0, 'extras': 0, 'total': 0}}}, {10.6: {'batsman': 'RT Ponting', 'bowler': 'JH Kallis', 'extras': {'byes': 4}, 'non_striker': 'BB McCullum', 'runs': {'batsman': 0, 'extras': 4, 'total': 4}}}, {11.1: {'batsman': 'BB McCullum', 'bowler': 'SB Joshi', 'non_striker': 'RT Ponting', 'runs': {'batsman': 0, 'extras': 0, 'total': 0}}}, {11.2: {'batsman': 'BB McCullum', 'bowler': 'SB Joshi', 'non_striker': 'RT Ponting', 'runs': {'batsman': 6, 'extras': 0, 'total': 6}}}, {11.3: {'batsman': 'BB McCullum', 'bowler': 'SB Joshi', 'non_striker': 'RT Ponting', 'runs': {'batsman': 2, 'extras': 0, 'total': 2}}}, {11.4: {'batsman': 'BB McCullum', 'bowler': 'SB Joshi', 'non_striker': 'RT Ponting', 'runs': {'batsman': 1, 'extras': 0, 'total': 1}}}, {11.5: {'batsman': 'RT Ponting', 'bowler': 'SB Joshi', 'non_striker': 'BB McCullum', 'runs': {'batsman': 0, 'extras': 0, 'total': 0}}}, {11.6: {'batsman': 'RT Ponting', 'bowler': 'SB Joshi', 'non_striker': 'BB McCullum', 'runs': {'batsman': 1, 'extras': 0, 'total': 1}}}, {12.1: {'batsman': 'RT Ponting', 'bowler': 'JH Kallis', 'non_striker': 'BB McCullum', 'runs': {'batsman': 0, 'extras': 0, 'total': 0}, 'wicket': {'fielders': ['P Kumar'], 'kind': 'caught', 'player_out': 'RT Ponting'}}}, {12.2: {'batsman': 'BB McCullum', 'bowler': 'JH Kallis', 'non_striker': 'DJ Hussey', 'runs': {'batsman': 4, 'extras': 0, 'total': 4}}}, {12.3: {'batsman': 'BB McCullum', 'bowler': 'JH Kallis', 'non_striker': 'DJ Hussey', 'runs': {'batsman': 0, 'extras': 0, 'total': 0}}}, {12.4: {'batsman': 'BB McCullum', 'bowler': 'JH Kallis', 'non_striker': 'DJ Hussey', 'runs': {'batsman': 2, 'extras': 0, 'total': 2}}}, {12.5: {'batsman': 'BB McCullum', 'bowler': 'JH Kallis', 'extras': {'wides': 1}, 'non_striker': 'DJ Hussey', 'runs': {'batsman': 0, 'extras': 1, 'total': 1}}}, {12.6: {'batsman': 'BB McCullum', 'bowler': 'JH Kallis', 'non_striker': 'DJ Hussey', 'runs': {'batsman': 4, 'extras': 0, 'total': 4}}}, {12.7: {'batsman': 'BB McCullum', 'bowler': 'JH Kallis', 'non_striker': 'DJ Hussey', 'runs': {'batsman': 1, 'extras': 0, 'total': 1}}}, {13.1: {'batsman': 'BB McCullum', 'bowler': 'SB Joshi', 'non_striker': 'DJ Hussey', 'runs': {'batsman': 1, 'extras': 0, 'total': 1}}}, {13.2: {'batsman': 'DJ Hussey', 'bowler': 'SB Joshi', 'non_striker': 'BB McCullum', 'runs': {'batsman': 0, 'extras': 0, 'total': 0}}}, {13.3: {'batsman': 'DJ Hussey', 'bowler': 'SB Joshi', 'non_striker': 'BB McCullum', 'runs': {'batsman': 1, 'extras': 0, 'total': 1}}}, {13.4: {'batsman': 'BB McCullum', 'bowler': 'SB Joshi', 'non_striker': 'DJ Hussey', 'runs': {'batsman': 1, 'extras': 0, 'total': 1}}}, {13.5: {'batsman': 'DJ Hussey', 'bowler': 'SB Joshi', 'non_striker': 'BB McCullum', 'runs': {'batsman': 1, 'extras': 0, 'total': 1}}}, {13.6: {'batsman': 'BB McCullum', 'bowler': 'SB Joshi', 'non_striker': 'DJ Hussey', 'runs': {'batsman': 2, 'extras': 0, 'total': 2}}}, {14.1: {'batsman': 'DJ Hussey', 'bowler': 'CL White', 'non_striker': 'BB McCullum', 'runs': {'batsman': 4, 'extras': 0, 'total': 4}}}, {14.2: {'batsman': 'DJ Hussey', 'bowler': 'CL White', 'non_striker': 'BB McCullum', 'runs': {'batsman': 1, 'extras': 0, 'total': 1}}}, {14.3: {'batsman': 'BB McCullum', 'bowler': 'CL White', 'non_striker': 'DJ Hussey', 'runs': {'batsman': 6, 'extras': 0, 'total': 6}}}, {14.4: {'batsman': 'BB McCullum', 'bowler': 'CL White', 'non_striker': 'DJ Hussey', 'runs': {'batsman': 4, 'extras': 0, 'total': 4}}}, {14.5: {'batsman': 'BB McCullum', 'bowler': 'CL White', 'extras': {'wides': 2}, 'non_striker': 'DJ Hussey', 'runs': {'batsman': 0, 'extras': 2, 'total': 2}}}, {14.6: {'batsman': 'DJ Hussey', 'bowler': 'CL White', 'non_striker': 'BB McCullum', 'runs': {'batsman': 1, 'extras': 0, 'total': 1}}}, {14.7: {'batsman': 'BB McCullum', 'bowler': 'CL White', 'non_striker': 'DJ Hussey', 'runs': {'batsman': 6, 'extras': 0, 'total': 6}}}, {15.1: {'batsman': 'DJ Hussey', 'bowler': 'AA Noffke', 'non_striker': 'BB McCullum', 'runs': {'batsman': 0, 'extras': 0, 'total': 0}}}, {15.2: {'batsman': 'DJ Hussey', 'bowler': 'AA Noffke', 'non_striker': 'BB McCullum', 'runs': {'batsman': 1, 'extras': 0, 'total': 1}}}, {15.3: {'batsman': 'BB McCullum', 'bowler': 'AA Noffke', 'non_striker': 'DJ Hussey', 'runs': {'batsman': 2, 'extras': 0, 'total': 2}}}, {15.4: {'batsman': 'BB McCullum', 'bowler': 'AA Noffke', 'non_striker': 'DJ Hussey', 'runs': {'batsman': 0, 'extras': 0, 'total': 0}}}, {15.5: {'batsman': 'BB McCullum', 'bowler': 'AA Noffke', 'non_striker': 'DJ Hussey', 'runs': {'batsman': 1, 'extras': 0, 'total': 1}}}, {15.6: {'batsman': 'DJ Hussey', 'bowler': 'AA Noffke', 'non_striker': 'BB McCullum', 'runs': {'batsman': 0, 'extras': 0, 'total': 0}}}, {16.1: {'batsman': 'BB McCullum', 'bowler': 'Z Khan', 'non_striker': 'DJ Hussey', 'runs': {'batsman': 1, 'extras': 0, 'total': 1}}}, {16.2: {'batsman': 'DJ Hussey', 'bowler': 'Z Khan', 'non_striker': 'BB McCullum', 'runs': {'batsman': 2, 'extras': 0, 'total': 2}}}, {16.3: {'batsman': 'DJ Hussey', 'bowler': 'Z Khan', 'non_striker': 'BB McCullum', 'runs': {'batsman': 1, 'extras': 0, 'total': 1}}}, {16.4: {'batsman': 'BB McCullum', 'bowler': 'Z Khan', 'non_striker': 'DJ Hussey', 'runs': {'batsman': 6, 'extras': 0, 'total': 6}}}, {16.5: {'batsman': 'BB McCullum', 'bowler': 'Z Khan', 'non_striker': 'DJ Hussey', 'runs': {'batsman': 2, 'extras': 0, 'total': 2}}}, {16.6: {'batsman': 'BB McCullum', 'bowler': 'Z Khan', 'non_striker': 'DJ Hussey', 'runs': {'batsman': 2, 'extras': 0, 'total': 2}}}, {17.1: {'batsman': 'DJ Hussey', 'bowler': 'AA Noffke', 'non_striker': 'BB McCullum', 'runs': {'batsman': 0, 'extras': 0, 'total': 0}, 'wicket': {'fielders': ['CL White'], 'kind': 'caught', 'player_out': 'DJ Hussey'}}}, {17.2: {'batsman': 'BB McCullum', 'bowler': 'AA Noffke', 'non_striker': 'Mohammad Hafeez', 'runs': {'batsman': 1, 'extras': 0, 'total': 1}}}, {17.3: {'batsman': 'Mohammad Hafeez', 'bowler': 'AA Noffke', 'non_striker': 'BB McCullum', 'runs': {'batsman': 0, 'extras': 0, 'total': 0}}}, {17.4: {'batsman': 'Mohammad Hafeez', 'bowler': 'AA Noffke', 'non_striker': 'BB McCullum', 'runs': {'batsman': 1, 'extras': 0, 'total': 1}}}, {17.5: {'batsman': 'BB McCullum', 'bowler': 'AA Noffke', 'non_striker': 'Mohammad Hafeez', 'runs': {'batsman': 4, 'extras': 0, 'total': 4}}}, {17.6: {'batsman': 'BB McCullum', 'bowler': 'AA Noffke', 'non_striker': 'Mohammad Hafeez', 'runs': {'batsman': 1, 'extras': 0, 'total': 1}}}, {18.1: {'batsman': 'BB McCullum', 'bowler': 'JH Kallis', 'non_striker': 'Mohammad Hafeez', 'runs': {'batsman': 6, 'extras': 0, 'total': 6}}}, {18.2: {'batsman': 'BB McCullum', 'bowler': 'JH Kallis', 'non_striker': 'Mohammad Hafeez', 'runs': {'batsman': 0, 'extras': 0, 'total': 0}}}, {18.3: {'batsman': 'BB McCullum', 'bowler': 'JH Kallis', 'non_striker': 'Mohammad Hafeez', 'runs': {'batsman': 6, 'extras': 0, 'total': 6}}}, {18.4: {'batsman': 'BB McCullum', 'bowler': 'JH Kallis', 'non_striker': 'Mohammad Hafeez', 'runs': {'batsman': 4, 'extras': 0, 'total': 4}}}, {18.5: {'batsman': 'BB McCullum', 'bowler': 'JH Kallis', 'non_striker': 'Mohammad Hafeez', 'runs': {'batsman': 1, 'extras': 0, 'total': 1}}}, {18.6: {'batsman': 'Mohammad Hafeez', 'bowler': 'JH Kallis', 'non_striker': 'BB McCullum', 'runs': {'batsman': 4, 'extras': 0, 'total': 4}}}, {19.1: {'batsman': 'BB McCullum', 'bowler': 'P Kumar', 'non_striker': 'Mohammad Hafeez', 'runs': {'batsman': 6, 'extras': 0, 'total': 6}}}, {19.2: {'batsman': 'BB McCullum', 'bowler': 'P Kumar', 'non_striker': 'Mohammad Hafeez', 'runs': {'batsman': 6, 'extras': 0, 'total': 6}}}, {19.3: {'batsman': 'BB McCullum', 'bowler': 'P Kumar', 'non_striker': 'Mohammad Hafeez', 'runs': {'batsman': 2, 'extras': 0, 'total': 2}}}, {19.4: {'batsman': 'BB McCullum', 'bowler': 'P Kumar', 'non_striker': 'Mohammad Hafeez', 'runs': {'batsman': 0, 'extras': 0, 'total': 0}}}, {19.5: {'batsman': 'BB McCullum', 'bowler': 'P Kumar', 'non_striker': 'Mohammad Hafeez', 'runs': {'batsman': 2, 'extras': 0, 'total': 2}}}, {19.6: {'batsman': 'BB McCullum', 'bowler': 'P Kumar', 'non_striker': 'Mohammad Hafeez', 'runs': {'batsman': 6, 'extras': 0, 'total': 6}}}]}}, {'2nd innings': {'team': 'Royal Challengers Bangalore', 'deliveries': [{0.1: {'batsman': 'R Dravid', 'bowler': 'AB Dinda', 'non_striker': 'W Jaffer', 'runs': {'batsman': 1, 'extras': 0, 'total': 1}}}, {0.2: {'batsman': 'W Jaffer', 'bowler': 'AB Dinda', 'extras': {'wides': 1}, 'non_striker': 'R Dravid', 'runs': {'batsman': 0, 'extras': 1, 'total': 1}}}, {0.3: {'batsman': 'W Jaffer', 'bowler': 'AB Dinda', 'non_striker': 'R Dravid', 'runs': {'batsman': 0, 'extras': 0, 'total': 0}}}, {0.4: {'batsman': 'W Jaffer', 'bowler': 'AB Dinda', 'non_striker': 'R Dravid', 'runs': {'batsman': 1, 'extras': 0, 'total': 1}}}, {0.5: {'batsman': 'R Dravid', 'bowler': 'AB Dinda', 'non_striker': 'W Jaffer', 'runs': {'batsman': 1, 'extras': 0, 'total': 1}}}, {0.6: {'batsman': 'W Jaffer', 'bowler': 'AB Dinda', 'non_striker': 'R Dravid', 'runs': {'batsman': 0, 'extras': 0, 'total': 0}}}, {0.7: {'batsman': 'W Jaffer', 'bowler': 'AB Dinda', 'non_striker': 'R Dravid', 'runs': {'batsman': 0, 'extras': 0, 'total': 0}}}, {1.1: {'batsman': 'R Dravid', 'bowler': 'I Sharma', 'non_striker': 'W Jaffer', 'runs': {'batsman': 0, 'extras': 0, 'total': 0}, 'wicket': {'kind': 'bowled', 'player_out': 'R Dravid'}}}, {1.2: {'batsman': 'V Kohli', 'bowler': 'I Sharma', 'non_striker': 'W Jaffer', 'runs': {'batsman': 0, 'extras': 0, 'total': 0}}}, {1.3: {'batsman': 'V Kohli', 'bowler': 'I Sharma', 'extras': {'legbyes': 4}, 'non_striker': 'W Jaffer', 'runs': {'batsman': 0, 'extras': 4, 'total': 4}}}, {1.4: {'batsman': 'V Kohli', 'bowler': 'I Sharma', 'non_striker': 'W Jaffer', 'runs': {'batsman': 1, 'extras': 0, 'total': 1}}}, {1.5: {'batsman': 'W Jaffer', 'bowler': 'I Sharma', 'non_striker': 'V Kohli', 'runs': {'batsman': 0, 'extras': 0, 'total': 0}}}, {1.6: {'batsman': 'W Jaffer', 'bowler': 'I Sharma', 'non_striker': 'V Kohli', 'runs': {'batsman': 0, 'extras': 0, 'total': 0}}}, {2.1: {'batsman': 'V Kohli', 'bowler': 'AB Dinda', 'non_striker': 'W Jaffer', 'runs': {'batsman': 0, 'extras': 0, 'total': 0}}}, {2.2: {'batsman': 'V Kohli', 'bowler': 'AB Dinda', 'non_striker': 'W Jaffer', 'runs': {'batsman': 0, 'extras': 0, 'total': 0}, 'wicket': {'kind': 'bowled', 'player_out': 'V Kohli'}}}, {2.3: {'batsman': 'JH Kallis', 'bowler': 'AB Dinda', 'non_striker': 'W Jaffer', 'runs': {'batsman': 1, 'extras': 0, 'total': 1}}}, {2.4: {'batsman': 'W Jaffer', 'bowler': 'AB Dinda', 'non_striker': 'JH Kallis', 'runs': {'batsman': 0, 'extras': 0, 'total': 0}}}, {2.5: {'batsman': 'W Jaffer', 'bowler': 'AB Dinda', 'extras': {'wides': 1}, 'non_striker': 'JH Kallis', 'runs': {'batsman': 0, 'extras': 1, 'total': 1}}}, {2.6: {'batsman': 'W Jaffer', 'bowler': 'AB Dinda', 'non_striker': 'JH Kallis', 'runs': {'batsman': 0, 'extras': 0, 'total': 0}}}, {2.7: {'batsman': 'W Jaffer', 'bowler': 'AB Dinda', 'non_striker': 'JH Kallis', 'runs': {'batsman': 1, 'extras': 0, 'total': 1}}}, {3.1: {'batsman': 'W Jaffer', 'bowler': 'I Sharma', 'non_striker': 'JH Kallis', 'runs': {'batsman': 2, 'extras': 0, 'total': 2}}}, {3.2: {'batsman': 'W Jaffer', 'bowler': 'I Sharma', 'non_striker': 'JH Kallis', 'runs': {'batsman': 1, 'extras': 0, 'total': 1}}}, {3.3: {'batsman': 'JH Kallis', 'bowler': 'I Sharma', 'non_striker': 'W Jaffer', 'runs': {'batsman': 0, 'extras': 0, 'total': 0}}}, {3.4: {'batsman': 'JH Kallis', 'bowler': 'I Sharma', 'extras': {'legbyes': 1}, 'non_striker': 'W Jaffer', 'runs': {'batsman': 0, 'extras': 1, 'total': 1}}}, {3.5: {'batsman': 'W Jaffer', 'bowler': 'I Sharma', 'non_striker': 'JH Kallis', 'runs': {'batsman': 0, 'extras': 0, 'total': 0}}}, {3.6: {'batsman': 'W Jaffer', 'bowler': 'I Sharma', 'non_striker': 'JH Kallis', 'runs': {'batsman': 0, 'extras': 0, 'total': 0}}}, {4.1: {'batsman': 'JH Kallis', 'bowler': 'AB Agarkar', 'non_striker': 'W Jaffer', 'runs': {'batsman': 1, 'extras': 0, 'total': 1}}}, {4.2: {'batsman': 'W Jaffer', 'bowler': 'AB Agarkar', 'non_striker': 'JH Kallis', 'runs': {'batsman': 1, 'extras': 0, 'total': 1}}}, {4.3: {'batsman': 'JH Kallis', 'bowler': 'AB Agarkar', 'non_striker': 'W Jaffer', 'runs': {'batsman': 0, 'extras': 0, 'total': 0}}}, {4.4: {'batsman': 'JH Kallis', 'bowler': 'AB Agarkar', 'non_striker': 'W Jaffer', 'runs': {'batsman': 6, 'extras': 0, 'total': 6}}}, {4.5: {'batsman': 'JH Kallis', 'bowler': 'AB Agarkar', 'non_striker': 'W Jaffer', 'runs': {'batsman': 0, 'extras': 0, 'total': 0}, 'wicket': {'fielders': ['M Kartik'], 'kind': 'caught', 'player_out': 'JH Kallis'}}}, {4.6: {'batsman': 'CL White', 'bowler': 'AB Agarkar', 'non_striker': 'W Jaffer', 'runs': {'batsman': 0, 'extras': 0, 'total': 0}}}, {5.1: {'batsman': 'W Jaffer', 'bowler': 'AB Dinda', 'non_striker': 'CL White', 'runs': {'batsman': 0, 'extras': 0, 'total': 0}}}, {5.2: {'batsman': 'W Jaffer', 'bowler': 'AB Dinda', 'non_striker': 'CL White', 'runs': {'batsman': 0, 'extras': 0, 'total': 0}, 'wicket': {'fielders': ['RT Ponting'], 'kind': 'caught', 'player_out': 'W Jaffer'}}}, {5.3: {'batsman': 'MV Boucher', 'bowler': 'AB Dinda', 'non_striker': 'CL White', 'runs': {'batsman': 0, 'extras': 0, 'total': 0}}}, {5.4: {'batsman': 'MV Boucher', 'bowler': 'AB Dinda', 'non_striker': 'CL White', 'runs': {'batsman': 1, 'extras': 0, 'total': 1}}}, {5.5: {'batsman': 'CL White', 'bowler': 'AB Dinda', 'non_striker': 'MV Boucher', 'runs': {'batsman': 1, 'extras': 0, 'total': 1}}}, {5.6: {'batsman': 'MV Boucher', 'bowler': 'AB Dinda', 'non_striker': 'CL White', 'runs': {'batsman': 0, 'extras': 0, 'total': 0}}}, {6.1: {'batsman': 'CL White', 'bowler': 'AB Agarkar', 'non_striker': 'MV Boucher', 'runs': {'batsman': 0, 'extras': 0, 'total': 0}}}, {6.2: {'batsman': 'CL White', 'bowler': 'AB Agarkar', 'non_striker': 'MV Boucher', 'runs': {'batsman': 0, 'extras': 0, 'total': 0}}}, {6.3: {'batsman': 'CL White', 'bowler': 'AB Agarkar', 'non_striker': 'MV Boucher', 'runs': {'batsman': 1, 'extras': 0, 'total': 1}}}, {6.4: {'batsman': 'MV Boucher', 'bowler': 'AB Agarkar', 'extras': {'wides': 1}, 'non_striker': 'CL White', 'runs': {'batsman': 0, 'extras': 1, 'total': 1}}}, {6.5: {'batsman': 'MV Boucher', 'bowler': 'AB Agarkar', 'extras': {'wides': 1}, 'non_striker': 'CL White', 'runs': {'batsman': 0, 'extras': 1, 'total': 1}}}, {6.6: {'batsman': 'MV Boucher', 'bowler': 'AB Agarkar', 'non_striker': 'CL White', 'runs': {'batsman': 0, 'extras': 0, 'total': 0}}}, {6.7: {'batsman': 'MV Boucher', 'bowler': 'AB Agarkar', 'non_striker': 'CL White', 'runs': {'batsman': 0, 'extras': 0, 'total': 0}}}, {6.8: {'batsman': 'MV Boucher', 'bowler': 'AB Agarkar', 'non_striker': 'CL White', 'runs': {'batsman': 4, 'extras': 0, 'total': 4}}}, {7.1: {'batsman': 'CL White', 'bowler': 'SC Ganguly', 'non_striker': 'MV Boucher', 'runs': {'batsman': 1, 'extras': 0, 'total': 1}}}, {7.2: {'batsman': 'MV Boucher', 'bowler': 'SC Ganguly', 'extras': {'legbyes': 1}, 'non_striker': 'CL White', 'runs': {'batsman': 0, 'extras': 1, 'total': 1}}}, {7.3: {'batsman': 'CL White', 'bowler': 'SC Ganguly', 'non_striker': 'MV Boucher', 'runs': {'batsman': 1, 'extras': 0, 'total': 1}}}, {7.4: {'batsman': 'MV Boucher', 'bowler': 'SC Ganguly', 'non_striker': 'CL White', 'runs': {'batsman': 2, 'extras': 0, 'total': 2}}}, {7.5: {'batsman': 'MV Boucher', 'bowler': 'SC Ganguly', 'non_striker': 'CL White', 'runs': {'batsman': 0, 'extras': 0, 'total': 0}, 'wicket': {'fielders': ['M Kartik'], 'kind': 'caught', 'player_out': 'MV Boucher'}}}, {7.6: {'batsman': 'CL White', 'bowler': 'SC Ganguly', 'non_striker': 'B Akhil', 'runs': {'batsman': 0, 'extras': 0, 'total': 0}}}, {8.1: {'batsman': 'B Akhil', 'bowler': 'AB Agarkar', 'non_striker': 'CL White', 'runs': {'batsman': 0, 'extras': 0, 'total': 0}}}, {8.2: {'batsman': 'B Akhil', 'bowler': 'AB Agarkar', 'non_striker': 'CL White', 'runs': {'batsman': 0, 'extras': 0, 'total': 0}, 'wicket': {'fielders': ['RT Ponting'], 'kind': 'caught', 'player_out': 'B Akhil'}}}, {8.3: {'batsman': 'AA Noffke', 'bowler': 'AB Agarkar', 'non_striker': 'CL White', 'runs': {'batsman': 0, 'extras': 0, 'total': 0}}}, {8.4: {'batsman': 'AA Noffke', 'bowler': 'AB Agarkar', 'extras': {'wides': 1}, 'non_striker': 'CL White', 'runs': {'batsman': 0, 'extras': 1, 'total': 1}}}, {8.5: {'batsman': 'AA Noffke', 'bowler': 'AB Agarkar', 'extras': {'wides': 1}, 'non_striker': 'CL White', 'runs': {'batsman': 0, 'extras': 1, 'total': 1}}}, {8.6: {'batsman': 'AA Noffke', 'bowler': 'AB Agarkar', 'non_striker': 'CL White', 'runs': {'batsman': 1, 'extras': 0, 'total': 1}}}, {8.7: {'batsman': 'CL White', 'bowler': 'AB Agarkar', 'non_striker': 'AA Noffke', 'runs': {'batsman': 2, 'extras': 0, 'total': 2}}}, {8.8: {'batsman': 'CL White', 'bowler': 'AB Agarkar', 'non_striker': 'AA Noffke', 'runs': {'batsman': 0, 'extras': 0, 'total': 0}, 'wicket': {'fielders': ['WP Saha'], 'kind': 'caught', 'player_out': 'CL White'}}}, {9.1: {'batsman': 'AA Noffke', 'bowler': 'SC Ganguly', 'non_striker': 'P Kumar', 'runs': {'batsman': 1, 'extras': 0, 'total': 1}}}, {9.2: {'batsman': 'P Kumar', 'bowler': 'SC Ganguly', 'non_striker': 'AA Noffke', 'runs': {'batsman': 0, 'extras': 0, 'total': 0}}}, {9.3: {'batsman': 'P Kumar', 'bowler': 'SC Ganguly', 'non_striker': 'AA Noffke', 'runs': {'batsman': 0, 'extras': 0, 'total': 0}}}, {9.4: {'batsman': 'P Kumar', 'bowler': 'SC Ganguly', 'extras': {'wides': 1}, 'non_striker': 'AA Noffke', 'runs': {'batsman': 0, 'extras': 1, 'total': 1}}}, {9.5: {'batsman': 'P Kumar', 'bowler': 'SC Ganguly', 'extras': {'legbyes': 1}, 'non_striker': 'AA Noffke', 'runs': {'batsman': 0, 'extras': 1, 'total': 1}}}, {9.6: {'batsman': 'AA Noffke', 'bowler': 'SC Ganguly', 'non_striker': 'P Kumar', 'runs': {'batsman': 4, 'extras': 0, 'total': 4}}}, {9.7: {'batsman': 'AA Noffke', 'bowler': 'SC Ganguly', 'non_striker': 'P Kumar', 'runs': {'batsman': 1, 'extras': 0, 'total': 1}}}, {10.1: {'batsman': 'AA Noffke', 'bowler': 'AB Agarkar', 'non_striker': 'P Kumar', 'runs': {'batsman': 0, 'extras': 0, 'total': 0}}}, {10.2: {'batsman': 'AA Noffke', 'bowler': 'AB Agarkar', 'non_striker': 'P Kumar', 'runs': {'batsman': 0, 'extras': 0, 'total': 0}}}, {10.3: {'batsman': 'AA Noffke', 'bowler': 'AB Agarkar', 'non_striker': 'P Kumar', 'runs': {'batsman': 0, 'extras': 0, 'total': 0}}}, {10.4: {'batsman': 'AA Noffke', 'bowler': 'AB Agarkar', 'non_striker': 'P Kumar', 'runs': {'batsman': 1, 'extras': 0, 'total': 1}}}, {10.5: {'batsman': 'P Kumar', 'bowler': 'AB Agarkar', 'non_striker': 'AA Noffke', 'runs': {'batsman': 4, 'extras': 0, 'total': 4}}}, {10.6: {'batsman': 'P Kumar', 'bowler': 'AB Agarkar', 'non_striker': 'AA Noffke', 'runs': {'batsman': 0, 'extras': 0, 'total': 0}}}, {11.1: {'batsman': 'AA Noffke', 'bowler': 'SC Ganguly', 'non_striker': 'P Kumar', 'runs': {'batsman': 1, 'extras': 0, 'total': 1}, 'wicket': {'fielders': ['AB Agarkar', 'WP Saha'], 'kind': 'run out', 'player_out': 'AA Noffke'}}}, {11.2: {'batsman': 'Z Khan', 'bowler': 'SC Ganguly', 'non_striker': 'P Kumar', 'runs': {'batsman': 0, 'extras': 0, 'total': 0}}}, {11.3: {'batsman': 'Z Khan', 'bowler': 'SC Ganguly', 'non_striker': 'P Kumar', 'runs': {'batsman': 0, 'extras': 0, 'total': 0}}}, {11.4: {'batsman': 'Z Khan', 'bowler': 'SC Ganguly', 'non_striker': 'P Kumar', 'runs': {'batsman': 1, 'extras': 0, 'total': 1}}}, {11.5: {'batsman': 'P Kumar', 'bowler': 'SC Ganguly', 'non_striker': 'Z Khan', 'runs': {'batsman': 0, 'extras': 0, 'total': 0}}}, {11.6: {'batsman': 'P Kumar', 'bowler': 'SC Ganguly', 'non_striker': 'Z Khan', 'runs': {'batsman': 1, 'extras': 0, 'total': 1}}}, {12.1: {'batsman': 'P Kumar', 'bowler': 'LR Shukla', 'non_striker': 'Z Khan', 'runs': {'batsman': 6, 'extras': 0, 'total': 6}}}, {12.2: {'batsman': 'P Kumar', 'bowler': 'LR Shukla', 'extras': {'wides': 2}, 'non_striker': 'Z Khan', 'runs': {'batsman': 0, 'extras': 2, 'total': 2}}}, {12.3: {'batsman': 'Z Khan', 'bowler': 'LR Shukla', 'non_striker': 'P Kumar', 'runs': {'batsman': 1, 'extras': 0, 'total': 1}}}, {12.4: {'batsman': 'P Kumar', 'bowler': 'LR Shukla', 'non_striker': 'Z Khan', 'runs': {'batsman': 1, 'extras': 0, 'total': 1}}}, {12.5: {'batsman': 'Z Khan', 'bowler': 'LR Shukla', 'non_striker': 'P Kumar', 'runs': {'batsman': 0, 'extras': 0, 'total': 0}}}, {12.6: {'batsman': 'Z Khan', 'bowler': 'LR Shukla', 'non_striker': 'P Kumar', 'runs': {'batsman': 0, 'extras': 0, 'total': 0}}}, {12.7: {'batsman': 'Z Khan', 'bowler': 'LR Shukla', 'non_striker': 'P Kumar', 'runs': {'batsman': 1, 'extras': 0, 'total': 1}}}, {13.1: {'batsman': 'Z Khan', 'bowler': 'SC Ganguly', 'non_striker': 'P Kumar', 'runs': {'batsman': 0, 'extras': 0, 'total': 0}, 'wicket': {'kind': 'bowled', 'player_out': 'Z Khan'}}}, {13.2: {'batsman': 'SB Joshi', 'bowler': 'SC Ganguly', 'non_striker': 'P Kumar', 'runs': {'batsman': 1, 'extras': 0, 'total': 1}}}, {13.3: {'batsman': 'P Kumar', 'bowler': 'SC Ganguly', 'non_striker': 'SB Joshi', 'runs': {'batsman': 0, 'extras': 0, 'total': 0}}}, {13.4: {'batsman': 'P Kumar', 'bowler': 'SC Ganguly', 'non_striker': 'SB Joshi', 'runs': {'batsman': 0, 'extras': 0, 'total': 0}}}, {13.5: {'batsman': 'P Kumar', 'bowler': 'SC Ganguly', 'non_striker': 'SB Joshi', 'runs': {'batsman': 0, 'extras': 0, 'total': 0}}}, {13.6: {'batsman': 'P Kumar', 'bowler': 'SC Ganguly', 'non_striker': 'SB Joshi', 'runs': {'batsman': 6, 'extras': 0, 'total': 6}}}, {14.1: {'batsman': 'SB Joshi', 'bowler': 'I Sharma', 'extras': {'wides': 1}, 'non_striker': 'P Kumar', 'runs': {'batsman': 0, 'extras': 1, 'total': 1}}}, {14.2: {'batsman': 'SB Joshi', 'bowler': 'I Sharma', 'non_striker': 'P Kumar', 'runs': {'batsman': 0, 'extras': 0, 'total': 0}}}, {14.3: {'batsman': 'SB Joshi', 'bowler': 'I Sharma', 'non_striker': 'P Kumar', 'runs': {'batsman': 0, 'extras': 0, 'total': 0}}}, {14.4: {'batsman': 'SB Joshi', 'bowler': 'I Sharma', 'non_striker': 'P Kumar', 'runs': {'batsman': 1, 'extras': 0, 'total': 1}}}, {14.5: {'batsman': 'P Kumar', 'bowler': 'I Sharma', 'extras': {'legbyes': 1}, 'non_striker': 'SB Joshi', 'runs': {'batsman': 0, 'extras': 1, 'total': 1}}}, {14.6: {'batsman': 'SB Joshi', 'bowler': 'I Sharma', 'non_striker': 'P Kumar', 'runs': {'batsman': 1, 'extras': 0, 'total': 1}}}, {14.7: {'batsman': 'P Kumar', 'bowler': 'I Sharma', 'non_striker': 'SB Joshi', 'runs': {'batsman': 0, 'extras': 0, 'total': 0}}}, {15.1: {'batsman': 'SB Joshi', 'bowler': 'LR Shukla', 'extras': {'wides': 1}, 'non_striker': 'P Kumar', 'runs': {'batsman': 0, 'extras': 1, 'total': 1}}}, {15.2: {'batsman': 'SB Joshi', 'bowler': 'LR Shukla', 'non_striker': 'P Kumar', 'runs': {'batsman': 0, 'extras': 0, 'total': 0}, 'wicket': {'fielders': ['BB McCullum'], 'kind': 'caught', 'player_out': 'SB Joshi'}}}]}}]}\n"
          ],
          "name": "stdout"
        }
      ]
    },
    {
      "cell_type": "markdown",
      "metadata": {
        "id": "4PUGihfm-L1b",
        "colab_type": "text"
      },
      "source": [
        "Now let's find answers to some prilminary questions such as "
      ]
    },
    {
      "cell_type": "markdown",
      "metadata": {
        "id": "z5XBvq80-L1c",
        "colab_type": "text"
      },
      "source": [
        "### Can you guess the data type with which your working on ?"
      ]
    },
    {
      "cell_type": "code",
      "metadata": {
        "id": "f-9vqIG4-L1d",
        "colab_type": "code",
        "outputId": "e715d82c-0596-4d2c-ed06-9aeb89b676c7",
        "colab": {
          "base_uri": "https://localhost:8080/",
          "height": 34
        }
      },
      "source": [
        "dataType = type(data)\n",
        "print(dataType)"
      ],
      "execution_count": 0,
      "outputs": [
        {
          "output_type": "stream",
          "text": [
            "<class 'dict'>\n"
          ],
          "name": "stdout"
        }
      ]
    },
    {
      "cell_type": "markdown",
      "metadata": {
        "id": "QchSq_7L-L1f",
        "colab_type": "text"
      },
      "source": [
        "### In which city the match was played and where was it played ?"
      ]
    },
    {
      "cell_type": "code",
      "metadata": {
        "id": "rhDL8Wy3-L1g",
        "colab_type": "code",
        "colab": {}
      },
      "source": [
        "city = data.get('info').get('city')"
      ],
      "execution_count": 0,
      "outputs": []
    },
    {
      "cell_type": "code",
      "metadata": {
        "id": "XEo6zZn3-L1i",
        "colab_type": "code",
        "outputId": "ceba4f0e-8ce1-44c4-cc3e-d5486d4b34eb",
        "colab": {
          "base_uri": "https://localhost:8080/",
          "height": 34
        }
      },
      "source": [
        "venue = data.get('info').get('venue')\n",
        "print(\"The match was played in \"+city+\" city and venue was \"+venue)"
      ],
      "execution_count": 0,
      "outputs": [
        {
          "output_type": "stream",
          "text": [
            "The match was played in Bangalore city and venue was M Chinnaswamy Stadium\n"
          ],
          "name": "stdout"
        }
      ]
    },
    {
      "cell_type": "markdown",
      "metadata": {
        "id": "UHZUhl8C-L1l",
        "colab_type": "text"
      },
      "source": [
        "### Which are all the teams that played in the tournament ? How many teams participated  in total?"
      ]
    },
    {
      "cell_type": "code",
      "metadata": {
        "id": "sKzf-zrG-L1l",
        "colab_type": "code",
        "outputId": "2c95d312-e030-4948-ae3c-3e151770d350",
        "colab": {
          "base_uri": "https://localhost:8080/",
          "height": 51
        }
      },
      "source": [
        "teams = data.get('info').get('teams')\n",
        "print(\"Teams are \"+teams[0]+\" and \"+teams[1])\n",
        "print(\"Total teams are \"+ str(len(teams)))"
      ],
      "execution_count": 0,
      "outputs": [
        {
          "output_type": "stream",
          "text": [
            "Teams are Royal Challengers Bangalore and Kolkata Knight Riders\n",
            "Total teams are 2\n"
          ],
          "name": "stdout"
        }
      ]
    },
    {
      "cell_type": "markdown",
      "metadata": {
        "id": "zeRiI0IF-L1o",
        "colab_type": "text"
      },
      "source": [
        "### Which team won the toss and what was the decision of toss winner ?"
      ]
    },
    {
      "cell_type": "code",
      "metadata": {
        "id": "RP_XDRg--L1o",
        "colab_type": "code",
        "outputId": "7a57e429-ff2d-4d15-c9ce-29f29b3297b3",
        "colab": {
          "base_uri": "https://localhost:8080/",
          "height": 34
        }
      },
      "source": [
        "toss = data.get('info').get('toss')\n",
        "print(toss.get('winner')+\" won the toss and decided to \"+toss.get('decision'))"
      ],
      "execution_count": 0,
      "outputs": [
        {
          "output_type": "stream",
          "text": [
            "Royal Challengers Bangalore won the toss and decided to field\n"
          ],
          "name": "stdout"
        }
      ]
    },
    {
      "cell_type": "markdown",
      "metadata": {
        "id": "BMrfuTm7-L1t",
        "colab_type": "text"
      },
      "source": [
        "### Find the first bowler who played the first ball of the first inning. Also the first batsman who faced first delivery ?"
      ]
    },
    {
      "cell_type": "code",
      "metadata": {
        "id": "7nD1PvCA-L1u",
        "colab_type": "code",
        "outputId": "0ec5c8a8-3ac5-4d36-b143-dc103d81e375",
        "colab": {
          "base_uri": "https://localhost:8080/",
          "height": 51
        }
      },
      "source": [
        "bowler = data.get('innings')[0].get('1st innings').get('deliveries')[0].get(0.1).get('bowler')\n",
        "batsman =  data.get('innings')[0].get('1st innings').get('deliveries')[0].get(0.1).get('batsman')\n",
        "print(\"In first inning first bowl was bowled by \"+bowler)\n",
        "print(\"First batsman who faced first bowl was \"+batsman)"
      ],
      "execution_count": 0,
      "outputs": [
        {
          "output_type": "stream",
          "text": [
            "In first inning first bowl was bowled by P Kumar\n",
            "First batsman who faced first bowl was SC Ganguly\n"
          ],
          "name": "stdout"
        }
      ]
    },
    {
      "cell_type": "markdown",
      "metadata": {
        "id": "Onao9AJZ-L1z",
        "colab_type": "text"
      },
      "source": [
        "### How many deliveries were delivered in first inning ?"
      ]
    },
    {
      "cell_type": "code",
      "metadata": {
        "id": "TOJuFkrd-L1z",
        "colab_type": "code",
        "outputId": "d2059619-e543-4566-a21d-287a28c58adc",
        "colab": {
          "base_uri": "https://localhost:8080/",
          "height": 34
        }
      },
      "source": [
        "## Does this come out to be more than 120 if yes then why ?\n",
        "FirstInn_bowl = len(data.get('innings')[0].get('1st innings').get('deliveries'))\n",
        "print(\"Total number of deliveries delivered in 1st innings \"+str(FirstInn_bowl))"
      ],
      "execution_count": 0,
      "outputs": [
        {
          "output_type": "stream",
          "text": [
            "Total number of deliveries delivered in 1st innings 124\n"
          ],
          "name": "stdout"
        }
      ]
    },
    {
      "cell_type": "markdown",
      "metadata": {
        "id": "gOf0v4CW-L13",
        "colab_type": "text"
      },
      "source": [
        "### How many deliveries were delivered in second inning ?"
      ]
    },
    {
      "cell_type": "code",
      "metadata": {
        "id": "KayFNlbq-L14",
        "colab_type": "code",
        "outputId": "05a45d94-2261-4557-f59c-997d66c379d6",
        "colab": {
          "base_uri": "https://localhost:8080/",
          "height": 51
        }
      },
      "source": [
        "## Does this come out to be less or greater than 120 then what's your thought process behind it ?\n",
        "'''Note : student can be advised that we can gather information of \n",
        "team 2 winning by runs as the deliveries delivered were less.'''\n",
        "\n",
        "SecondInn_bowl = len(data.get('innings')[1].get('2nd innings').get('deliveries'))\n",
        "Total_bowl = 120\n",
        "print(\"Total number of deliveries delivered in 2nd innings \"+str(SecondInn_bowl))\n",
        "print(\"Extra deliveries delivered in 1st innings \"+str(FirstInn_bowl-Total_bowl))"
      ],
      "execution_count": 0,
      "outputs": [
        {
          "output_type": "stream",
          "text": [
            "Total number of deliveries delivered in 2nd innings 101\n",
            "Extra deliveries delivered in 1st innings 4\n"
          ],
          "name": "stdout"
        }
      ]
    },
    {
      "cell_type": "markdown",
      "metadata": {
        "id": "ADxZY0BO-L2A",
        "colab_type": "text"
      },
      "source": [
        "### Which team won and how ?\n"
      ]
    },
    {
      "cell_type": "code",
      "metadata": {
        "id": "1E9r8bIX-L2B",
        "colab_type": "code",
        "outputId": "71623df2-546f-403c-8e6f-009367e08121",
        "colab": {
          "base_uri": "https://localhost:8080/",
          "height": 34
        }
      },
      "source": [
        "## see if the guess of the students is right did they infer it correctly\n",
        "print(data.get('info').get('outcome').get('winner')+\" won the match by \"+str(data.get('info').get('outcome').get('by').get('runs'))+\" runs\")"
      ],
      "execution_count": 0,
      "outputs": [
        {
          "output_type": "stream",
          "text": [
            "Kolkata Knight Riders won the match by 140 runs\n"
          ],
          "name": "stdout"
        }
      ]
    },
    {
      "cell_type": "code",
      "metadata": {
        "id": "fZGp0j6i-L2G",
        "colab_type": "code",
        "colab": {}
      },
      "source": [
        ""
      ],
      "execution_count": 0,
      "outputs": []
    }
  ]
}