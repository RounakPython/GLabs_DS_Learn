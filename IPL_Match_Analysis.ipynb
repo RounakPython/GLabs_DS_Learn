{
  "nbformat": 4,
  "nbformat_minor": 0,
  "metadata": {
    "kernelspec": {
      "display_name": "Python 3",
      "language": "python",
      "name": "python3"
    },
    "language_info": {
      "codemirror_mode": {
        "name": "ipython",
        "version": 3
      },
      "file_extension": ".py",
      "mimetype": "text/x-python",
      "name": "python",
      "nbconvert_exporter": "python",
      "pygments_lexer": "ipython3",
      "version": "3.7.6"
    },
    "colab": {
      "name": "IPL_Match_Analysis.ipynb",
      "provenance": [],
      "collapsed_sections": [],
      "include_colab_link": true
    }
  },
  "cells": [
    {
      "cell_type": "markdown",
      "metadata": {
        "id": "view-in-github",
        "colab_type": "text"
      },
      "source": [
        "<a href=\"https://colab.research.google.com/github/RounakPython/GLabs_DS_Learn/blob/master/IPL_Match_Analysis.ipynb\" target=\"_parent\"><img src=\"https://colab.research.google.com/assets/colab-badge.svg\" alt=\"Open In Colab\"/></a>"
      ]
    },
    {
      "cell_type": "code",
      "metadata": {
        "id": "ER11MUOU-X6J",
        "colab_type": "code",
        "colab": {}
      },
      "source": [
        "import yaml"
      ],
      "execution_count": 0,
      "outputs": []
    },
    {
      "cell_type": "code",
      "metadata": {
        "id": "G3I2wu60O39M",
        "colab_type": "code",
        "colab": {
          "base_uri": "https://localhost:8080/",
          "height": 122
        },
        "outputId": "c9424f30-db31-4bd9-f8c2-c5422a9fbbf1"
      },
      "source": [
        "from google.colab import drive\n",
        "drive.mount('/content/drive/')"
      ],
      "execution_count": 5,
      "outputs": [
        {
          "output_type": "stream",
          "text": [
            "Go to this URL in a browser: https://accounts.google.com/o/oauth2/auth?client_id=947318989803-6bn6qk8qdgf4n4g3pfee6491hc0brc4i.apps.googleusercontent.com&redirect_uri=urn%3aietf%3awg%3aoauth%3a2.0%3aoob&response_type=code&scope=email%20https%3a%2f%2fwww.googleapis.com%2fauth%2fdocs.test%20https%3a%2f%2fwww.googleapis.com%2fauth%2fdrive%20https%3a%2f%2fwww.googleapis.com%2fauth%2fdrive.photos.readonly%20https%3a%2f%2fwww.googleapis.com%2fauth%2fpeopleapi.readonly\n",
            "\n",
            "Enter your authorization code:\n",
            "··········\n",
            "Mounted at /content/drive/\n"
          ],
          "name": "stdout"
        }
      ]
    },
    {
      "cell_type": "code",
      "metadata": {
        "id": "MlVluBYe-X6Z",
        "colab_type": "code",
        "colab": {}
      },
      "source": [
        "with open('/content/drive/My Drive/Python/Data/ipl_match.yaml') as file:\n",
        "    data = yaml.load(file)"
      ],
      "execution_count": 0,
      "outputs": []
    },
    {
      "cell_type": "code",
      "metadata": {
        "id": "zaE6ahbZ-X6i",
        "colab_type": "code",
        "outputId": "52805fa7-323b-4118-e943-be0ee08cd81d",
        "colab": {
          "base_uri": "https://localhost:8080/",
          "height": 54
        }
      },
      "source": [
        "print(data)"
      ],
      "execution_count": 7,
      "outputs": [
        {
          "output_type": "stream",
          "text": [
            "{'meta': {'data_version': 0.9, 'created': datetime.date(2011, 5, 6), 'revision': 2}, 'info': {'city': 'Bangalore', 'competition': 'IPL', 'dates': [datetime.date(2008, 4, 18)], 'gender': 'male', 'match_type': 'T20', 'outcome': {'by': {'runs': 140}, 'winner': 'Kolkata Knight Riders'}, 'overs': 20, 'player_of_match': ['BB McCullum'], 'teams': ['Royal Challengers Bangalore', 'Kolkata Knight Riders'], 'toss': {'decision': 'field', 'winner': 'Royal Challengers Bangalore'}, 'umpires': ['Asad Rauf', 'RE Koertzen'], 'venue': 'M Chinnaswamy Stadium'}, 'innings': [{'1st innings': {'team': 'Kolkata Knight Riders', 'deliveries': [{0.1: {'batsman': 'SC Ganguly', 'bowler': 'P Kumar', 'extras': {'legbyes': 1}, 'non_striker': 'BB McCullum', 'runs': {'batsman': 0, 'extras': 1, 'total': 1}}}, {0.2: {'batsman': 'BB McCullum', 'bowler': 'P Kumar', 'non_striker': 'SC Ganguly', 'runs': {'batsman': 0, 'extras': 0, 'total': 0}}}, {0.3: {'batsman': 'BB McCullum', 'bowler': 'P Kumar', 'extras': {'wides': 1}, 'non_striker': 'SC Ganguly', 'runs': {'batsman': 0, 'extras': 1, 'total': 1}}}, {0.4: {'batsman': 'BB McCullum', 'bowler': 'P Kumar', 'non_striker': 'SC Ganguly', 'runs': {'batsman': 0, 'extras': 0, 'total': 0}}}, {0.5: {'batsman': 'BB McCullum', 'bowler': 'P Kumar', 'non_striker': 'SC Ganguly', 'runs': {'batsman': 0, 'extras': 0, 'total': 0}}}, {0.6: {'batsman': 'BB McCullum', 'bowler': 'P Kumar', 'non_striker': 'SC Ganguly', 'runs': {'batsman': 0, 'extras': 0, 'total': 0}}}, {0.7: {'batsman': 'BB McCullum', 'bowler': 'P Kumar', 'extras': {'legbyes': 1}, 'non_striker': 'SC Ganguly', 'runs': {'batsman': 0, 'extras': 1, 'total': 1}}}, {1.1: {'batsman': 'BB McCullum', 'bowler': 'Z Khan', 'non_striker': 'SC Ganguly', 'runs': {'batsman': 0, 'extras': 0, 'total': 0}}}, {1.2: {'batsman': 'BB McCullum', 'bowler': 'Z Khan', 'non_striker': 'SC Ganguly', 'runs': {'batsman': 4, 'extras': 0, 'total': 4}}}, {1.3: {'batsman': 'BB McCullum', 'bowler': 'Z Khan', 'non_striker': 'SC Ganguly', 'runs': {'batsman': 4, 'extras': 0, 'total': 4}}}, {1.4: {'batsman': 'BB McCullum', 'bowler': 'Z Khan', 'non_striker': 'SC Ganguly', 'runs': {'batsman': 6, 'extras': 0, 'total': 6}}}, {1.5: {'batsman': 'BB McCullum', 'bowler': 'Z Khan', 'non_striker': 'SC Ganguly', 'runs': {'batsman': 4, 'extras': 0, 'total': 4}}}, {1.6: {'batsman': 'BB McCullum', 'bowler': 'Z Khan', 'non_striker': 'SC Ganguly', 'runs': {'batsman': 0, 'extras': 0, 'total': 0}}}, {2.1: {'batsman': 'SC Ganguly', 'bowler': 'P Kumar', 'non_striker': 'BB McCullum', 'runs': {'batsman': 0, 'extras': 0, 'total': 0}}}, {2.2: {'batsman': 'SC Ganguly', 'bowler': 'P Kumar', 'non_striker': 'BB McCullum', 'runs': {'batsman': 0, 'extras': 0, 'total': 0}}}, {2.3: {'batsman': 'SC Ganguly', 'bowler': 'P Kumar', 'extras': {'legbyes': 1}, 'non_striker': 'BB McCullum', 'runs': {'batsman': 0, 'extras': 1, 'total': 1}}}, {2.4: {'batsman': 'BB McCullum', 'bowler': 'P Kumar', 'non_striker': 'SC Ganguly', 'runs': {'batsman': 4, 'extras': 0, 'total': 4}}}, {2.5: {'batsman': 'BB McCullum', 'bowler': 'P Kumar', 'non_striker': 'SC Ganguly', 'runs': {'batsman': 1, 'extras': 0, 'total': 1}}}, {2.6: {'batsman': 'SC Ganguly', 'bowler': 'P Kumar', 'non_striker': 'BB McCullum', 'runs': {'batsman': 0, 'extras': 0, 'total': 0}}}, {3.1: {'batsman': 'BB McCullum', 'bowler': 'AA Noffke', 'extras': {'wides': 5}, 'non_striker': 'SC Ganguly', 'runs': {'batsman': 0, 'extras': 5, 'total': 5}}}, {3.2: {'batsman': 'BB McCullum', 'bowler': 'AA Noffke', 'non_striker': 'SC Ganguly', 'runs': {'batsman': 6, 'extras': 0, 'total': 6}}}, {3.3: {'batsman': 'BB McCullum', 'bowler': 'AA Noffke', 'extras': {'legbyes': 1}, 'non_striker': 'SC Ganguly', 'runs': {'batsman': 0, 'extras': 1, 'total': 1}}}, {3.4: {'batsman': 'SC Ganguly', 'bowler': 'AA Noffke', 'non_striker': 'BB McCullum', 'runs': {'batsman': 4, 'extras': 0, 'total': 4}}}, {3.5: {'batsman': 'SC Ganguly', 'bowler': 'AA Noffke', 'non_striker': 'BB McCullum', 'runs': {'batsman': 0, 'extras': 0, 'total': 0}}}, {3.6: {'batsman': 'SC Ganguly', 'bowler': 'AA Noffke', 'non_striker': 'BB McCullum', 'runs': {'batsman': 1, 'extras': 0, 'total': 1}}}, {3.7: {'batsman': 'BB McCullum', 'bowler': 'AA Noffke', 'non_striker': 'SC Ganguly', 'runs': {'batsman': 6, 'extras': 0, 'total': 6}}}, {4.1: {'batsman': 'SC Ganguly', 'bowler': 'P Kumar', 'non_striker': 'BB McCullum', 'runs': {'batsman': 4, 'extras': 0, 'total': 4}}}, {4.2: {'batsman': 'SC Ganguly', 'bowler': 'P Kumar', 'non_striker': 'BB McCullum', 'runs': {'batsman': 1, 'extras': 0, 'total': 1}}}, {4.3: {'batsman': 'BB McCullum', 'bowler': 'P Kumar', 'non_striker': 'SC Ganguly', 'runs': {'batsman': 4, 'extras': 0, 'total': 4}}}, {4.4: {'batsman': 'BB McCullum', 'bowler': 'P Kumar', 'non_striker': 'SC Ganguly', 'runs': {'batsman': 0, 'extras': 0, 'total': 0}}}, {4.5: {'batsman': 'BB McCullum', 'bowler': 'P Kumar', 'non_striker': 'SC Ganguly', 'runs': {'batsman': 1, 'extras': 0, 'total': 1}}}, {4.6: {'batsman': 'SC Ganguly', 'bowler': 'P Kumar', 'non_striker': 'BB McCullum', 'runs': {'batsman': 0, 'extras': 0, 'total': 0}}}, {5.1: {'batsman': 'BB McCullum', 'bowler': 'Z Khan', 'non_striker': 'SC Ganguly', 'runs': {'batsman': 1, 'extras': 0, 'total': 1}}}, {5.2: {'batsman': 'SC Ganguly', 'bowler': 'Z Khan', 'non_striker': 'BB McCullum', 'runs': {'batsman': 0, 'extras': 0, 'total': 0}, 'wicket': {'fielders': ['JH Kallis'], 'kind': 'caught', 'player_out': 'SC Ganguly'}}}, {5.3: {'batsman': 'RT Ponting', 'bowler': 'Z Khan', 'non_striker': 'BB McCullum', 'runs': {'batsman': 0, 'extras': 0, 'total': 0}}}, {5.4: {'batsman': 'RT Ponting', 'bowler': 'Z Khan', 'non_striker': 'BB McCullum', 'runs': {'batsman': 0, 'extras': 0, 'total': 0}}}, {5.5: {'batsman': 'RT Ponting', 'bowler': 'Z Khan', 'non_striker': 'BB McCullum', 'runs': {'batsman': 0, 'extras': 0, 'total': 0}}}, {5.6: {'batsman': 'RT Ponting', 'bowler': 'Z Khan', 'non_striker': 'BB McCullum', 'runs': {'batsman': 0, 'extras': 0, 'total': 0}}}, {6.1: {'batsman': 'BB McCullum', 'bowler': 'AA Noffke', 'non_striker': 'RT Ponting', 'runs': {'batsman': 1, 'extras': 0, 'total': 1}}}, {6.2: {'batsman': 'RT Ponting', 'bowler': 'AA Noffke', 'non_striker': 'BB McCullum', 'runs': {'batsman': 1, 'extras': 0, 'total': 1}}}, {6.3: {'batsman': 'BB McCullum', 'bowler': 'AA Noffke', 'non_striker': 'RT Ponting', 'runs': {'batsman': 1, 'extras': 0, 'total': 1}}}, {6.4: {'batsman': 'RT Ponting', 'bowler': 'AA Noffke', 'non_striker': 'BB McCullum', 'runs': {'batsman': 2, 'extras': 0, 'total': 2}}}, {6.5: {'batsman': 'RT Ponting', 'bowler': 'AA Noffke', 'non_striker': 'BB McCullum', 'runs': {'batsman': 1, 'extras': 0, 'total': 1}}}, {6.6: {'batsman': 'BB McCullum', 'bowler': 'AA Noffke', 'non_striker': 'RT Ponting', 'runs': {'batsman': 1, 'extras': 0, 'total': 1}}}, {7.1: {'batsman': 'BB McCullum', 'bowler': 'Z Khan', 'non_striker': 'RT Ponting', 'runs': {'batsman': 0, 'extras': 0, 'total': 0}}}, {7.2: {'batsman': 'BB McCullum', 'bowler': 'Z Khan', 'non_striker': 'RT Ponting', 'runs': {'batsman': 1, 'extras': 0, 'total': 1}}}, {7.3: {'batsman': 'RT Ponting', 'bowler': 'Z Khan', 'non_striker': 'BB McCullum', 'runs': {'batsman': 1, 'extras': 0, 'total': 1}}}, {7.4: {'batsman': 'BB McCullum', 'bowler': 'Z Khan', 'non_striker': 'RT Ponting', 'runs': {'batsman': 1, 'extras': 0, 'total': 1}}}, {7.5: {'batsman': 'RT Ponting', 'bowler': 'Z Khan', 'non_striker': 'BB McCullum', 'runs': {'batsman': 1, 'extras': 0, 'total': 1}}}, {7.6: {'batsman': 'BB McCullum', 'bowler': 'Z Khan', 'non_striker': 'RT Ponting', 'runs': {'batsman': 1, 'extras': 0, 'total': 1}}}, {8.1: {'batsman': 'BB McCullum', 'bowler': 'JH Kallis', 'non_striker': 'RT Ponting', 'runs': {'batsman': 0, 'extras': 0, 'total': 0}}}, {8.2: {'batsman': 'BB McCullum', 'bowler': 'JH Kallis', 'non_striker': 'RT Ponting', 'runs': {'batsman': 0, 'extras': 0, 'total': 0}}}, {8.3: {'batsman': 'BB McCullum', 'bowler': 'JH Kallis', 'non_striker': 'RT Ponting', 'runs': {'batsman': 0, 'extras': 0, 'total': 0}}}, {8.4: {'batsman': 'BB McCullum', 'bowler': 'JH Kallis', 'non_striker': 'RT Ponting', 'runs': {'batsman': 1, 'extras': 0, 'total': 1}}}, {8.5: {'batsman': 'RT Ponting', 'bowler': 'JH Kallis', 'non_striker': 'BB McCullum', 'runs': {'batsman': 1, 'extras': 0, 'total': 1}}}, {8.6: {'batsman': 'BB McCullum', 'bowler': 'JH Kallis', 'non_striker': 'RT Ponting', 'runs': {'batsman': 2, 'extras': 0, 'total': 2}}}, {9.1: {'batsman': 'RT Ponting', 'bowler': 'SB Joshi', 'non_striker': 'BB McCullum', 'runs': {'batsman': 1, 'extras': 0, 'total': 1}}}, {9.2: {'batsman': 'BB McCullum', 'bowler': 'SB Joshi', 'non_striker': 'RT Ponting', 'runs': {'batsman': 1, 'extras': 0, 'total': 1}}}, {9.3: {'batsman': 'RT Ponting', 'bowler': 'SB Joshi', 'non_striker': 'BB McCullum', 'runs': {'batsman': 1, 'extras': 0, 'total': 1}}}, {9.4: {'batsman': 'BB McCullum', 'bowler': 'SB Joshi', 'non_striker': 'RT Ponting', 'runs': {'batsman': 0, 'extras': 0, 'total': 0}}}, {9.5: {'batsman': 'BB McCullum', 'bowler': 'SB Joshi', 'non_striker': 'RT Ponting', 'runs': {'batsman': 6, 'extras': 0, 'total': 6}}}, {9.6: {'batsman': 'BB McCullum', 'bowler': 'SB Joshi', 'non_striker': 'RT Ponting', 'runs': {'batsman': 1, 'extras': 0, 'total': 1}}}, {10.1: {'batsman': 'BB McCullum', 'bowler': 'JH Kallis', 'non_striker': 'RT Ponting', 'runs': {'batsman': 1, 'extras': 0, 'total': 1}}}, {10.2: {'batsman': 'RT Ponting', 'bowler': 'JH Kallis', 'non_striker': 'BB McCullum', 'runs': {'batsman': 4, 'extras': 0, 'total': 4}}}, {10.3: {'batsman': 'RT Ponting', 'bowler': 'JH Kallis', 'non_striker': 'BB McCullum', 'runs': {'batsman': 0, 'extras': 0, 'total': 0}}}, {10.4: {'batsman': 'RT Ponting', 'bowler': 'JH Kallis', 'non_striker': 'BB McCullum', 'runs': {'batsman': 6, 'extras': 0, 'total': 6}}}, {10.5: {'batsman': 'RT Ponting', 'bowler': 'JH Kallis', 'non_striker': 'BB McCullum', 'runs': {'batsman': 0, 'extras': 0, 'total': 0}}}, {10.6: {'batsman': 'RT Ponting', 'bowler': 'JH Kallis', 'extras': {'byes': 4}, 'non_striker': 'BB McCullum', 'runs': {'batsman': 0, 'extras': 4, 'total': 4}}}, {11.1: {'batsman': 'BB McCullum', 'bowler': 'SB Joshi', 'non_striker': 'RT Ponting', 'runs': {'batsman': 0, 'extras': 0, 'total': 0}}}, {11.2: {'batsman': 'BB McCullum', 'bowler': 'SB Joshi', 'non_striker': 'RT Ponting', 'runs': {'batsman': 6, 'extras': 0, 'total': 6}}}, {11.3: {'batsman': 'BB McCullum', 'bowler': 'SB Joshi', 'non_striker': 'RT Ponting', 'runs': {'batsman': 2, 'extras': 0, 'total': 2}}}, {11.4: {'batsman': 'BB McCullum', 'bowler': 'SB Joshi', 'non_striker': 'RT Ponting', 'runs': {'batsman': 1, 'extras': 0, 'total': 1}}}, {11.5: {'batsman': 'RT Ponting', 'bowler': 'SB Joshi', 'non_striker': 'BB McCullum', 'runs': {'batsman': 0, 'extras': 0, 'total': 0}}}, {11.6: {'batsman': 'RT Ponting', 'bowler': 'SB Joshi', 'non_striker': 'BB McCullum', 'runs': {'batsman': 1, 'extras': 0, 'total': 1}}}, {12.1: {'batsman': 'RT Ponting', 'bowler': 'JH Kallis', 'non_striker': 'BB McCullum', 'runs': {'batsman': 0, 'extras': 0, 'total': 0}, 'wicket': {'fielders': ['P Kumar'], 'kind': 'caught', 'player_out': 'RT Ponting'}}}, {12.2: {'batsman': 'BB McCullum', 'bowler': 'JH Kallis', 'non_striker': 'DJ Hussey', 'runs': {'batsman': 4, 'extras': 0, 'total': 4}}}, {12.3: {'batsman': 'BB McCullum', 'bowler': 'JH Kallis', 'non_striker': 'DJ Hussey', 'runs': {'batsman': 0, 'extras': 0, 'total': 0}}}, {12.4: {'batsman': 'BB McCullum', 'bowler': 'JH Kallis', 'non_striker': 'DJ Hussey', 'runs': {'batsman': 2, 'extras': 0, 'total': 2}}}, {12.5: {'batsman': 'BB McCullum', 'bowler': 'JH Kallis', 'extras': {'wides': 1}, 'non_striker': 'DJ Hussey', 'runs': {'batsman': 0, 'extras': 1, 'total': 1}}}, {12.6: {'batsman': 'BB McCullum', 'bowler': 'JH Kallis', 'non_striker': 'DJ Hussey', 'runs': {'batsman': 4, 'extras': 0, 'total': 4}}}, {12.7: {'batsman': 'BB McCullum', 'bowler': 'JH Kallis', 'non_striker': 'DJ Hussey', 'runs': {'batsman': 1, 'extras': 0, 'total': 1}}}, {13.1: {'batsman': 'BB McCullum', 'bowler': 'SB Joshi', 'non_striker': 'DJ Hussey', 'runs': {'batsman': 1, 'extras': 0, 'total': 1}}}, {13.2: {'batsman': 'DJ Hussey', 'bowler': 'SB Joshi', 'non_striker': 'BB McCullum', 'runs': {'batsman': 0, 'extras': 0, 'total': 0}}}, {13.3: {'batsman': 'DJ Hussey', 'bowler': 'SB Joshi', 'non_striker': 'BB McCullum', 'runs': {'batsman': 1, 'extras': 0, 'total': 1}}}, {13.4: {'batsman': 'BB McCullum', 'bowler': 'SB Joshi', 'non_striker': 'DJ Hussey', 'runs': {'batsman': 1, 'extras': 0, 'total': 1}}}, {13.5: {'batsman': 'DJ Hussey', 'bowler': 'SB Joshi', 'non_striker': 'BB McCullum', 'runs': {'batsman': 1, 'extras': 0, 'total': 1}}}, {13.6: {'batsman': 'BB McCullum', 'bowler': 'SB Joshi', 'non_striker': 'DJ Hussey', 'runs': {'batsman': 2, 'extras': 0, 'total': 2}}}, {14.1: {'batsman': 'DJ Hussey', 'bowler': 'CL White', 'non_striker': 'BB McCullum', 'runs': {'batsman': 4, 'extras': 0, 'total': 4}}}, {14.2: {'batsman': 'DJ Hussey', 'bowler': 'CL White', 'non_striker': 'BB McCullum', 'runs': {'batsman': 1, 'extras': 0, 'total': 1}}}, {14.3: {'batsman': 'BB McCullum', 'bowler': 'CL White', 'non_striker': 'DJ Hussey', 'runs': {'batsman': 6, 'extras': 0, 'total': 6}}}, {14.4: {'batsman': 'BB McCullum', 'bowler': 'CL White', 'non_striker': 'DJ Hussey', 'runs': {'batsman': 4, 'extras': 0, 'total': 4}}}, {14.5: {'batsman': 'BB McCullum', 'bowler': 'CL White', 'extras': {'wides': 2}, 'non_striker': 'DJ Hussey', 'runs': {'batsman': 0, 'extras': 2, 'total': 2}}}, {14.6: {'batsman': 'DJ Hussey', 'bowler': 'CL White', 'non_striker': 'BB McCullum', 'runs': {'batsman': 1, 'extras': 0, 'total': 1}}}, {14.7: {'batsman': 'BB McCullum', 'bowler': 'CL White', 'non_striker': 'DJ Hussey', 'runs': {'batsman': 6, 'extras': 0, 'total': 6}}}, {15.1: {'batsman': 'DJ Hussey', 'bowler': 'AA Noffke', 'non_striker': 'BB McCullum', 'runs': {'batsman': 0, 'extras': 0, 'total': 0}}}, {15.2: {'batsman': 'DJ Hussey', 'bowler': 'AA Noffke', 'non_striker': 'BB McCullum', 'runs': {'batsman': 1, 'extras': 0, 'total': 1}}}, {15.3: {'batsman': 'BB McCullum', 'bowler': 'AA Noffke', 'non_striker': 'DJ Hussey', 'runs': {'batsman': 2, 'extras': 0, 'total': 2}}}, {15.4: {'batsman': 'BB McCullum', 'bowler': 'AA Noffke', 'non_striker': 'DJ Hussey', 'runs': {'batsman': 0, 'extras': 0, 'total': 0}}}, {15.5: {'batsman': 'BB McCullum', 'bowler': 'AA Noffke', 'non_striker': 'DJ Hussey', 'runs': {'batsman': 1, 'extras': 0, 'total': 1}}}, {15.6: {'batsman': 'DJ Hussey', 'bowler': 'AA Noffke', 'non_striker': 'BB McCullum', 'runs': {'batsman': 0, 'extras': 0, 'total': 0}}}, {16.1: {'batsman': 'BB McCullum', 'bowler': 'Z Khan', 'non_striker': 'DJ Hussey', 'runs': {'batsman': 1, 'extras': 0, 'total': 1}}}, {16.2: {'batsman': 'DJ Hussey', 'bowler': 'Z Khan', 'non_striker': 'BB McCullum', 'runs': {'batsman': 2, 'extras': 0, 'total': 2}}}, {16.3: {'batsman': 'DJ Hussey', 'bowler': 'Z Khan', 'non_striker': 'BB McCullum', 'runs': {'batsman': 1, 'extras': 0, 'total': 1}}}, {16.4: {'batsman': 'BB McCullum', 'bowler': 'Z Khan', 'non_striker': 'DJ Hussey', 'runs': {'batsman': 6, 'extras': 0, 'total': 6}}}, {16.5: {'batsman': 'BB McCullum', 'bowler': 'Z Khan', 'non_striker': 'DJ Hussey', 'runs': {'batsman': 2, 'extras': 0, 'total': 2}}}, {16.6: {'batsman': 'BB McCullum', 'bowler': 'Z Khan', 'non_striker': 'DJ Hussey', 'runs': {'batsman': 2, 'extras': 0, 'total': 2}}}, {17.1: {'batsman': 'DJ Hussey', 'bowler': 'AA Noffke', 'non_striker': 'BB McCullum', 'runs': {'batsman': 0, 'extras': 0, 'total': 0}, 'wicket': {'fielders': ['CL White'], 'kind': 'caught', 'player_out': 'DJ Hussey'}}}, {17.2: {'batsman': 'BB McCullum', 'bowler': 'AA Noffke', 'non_striker': 'Mohammad Hafeez', 'runs': {'batsman': 1, 'extras': 0, 'total': 1}}}, {17.3: {'batsman': 'Mohammad Hafeez', 'bowler': 'AA Noffke', 'non_striker': 'BB McCullum', 'runs': {'batsman': 0, 'extras': 0, 'total': 0}}}, {17.4: {'batsman': 'Mohammad Hafeez', 'bowler': 'AA Noffke', 'non_striker': 'BB McCullum', 'runs': {'batsman': 1, 'extras': 0, 'total': 1}}}, {17.5: {'batsman': 'BB McCullum', 'bowler': 'AA Noffke', 'non_striker': 'Mohammad Hafeez', 'runs': {'batsman': 4, 'extras': 0, 'total': 4}}}, {17.6: {'batsman': 'BB McCullum', 'bowler': 'AA Noffke', 'non_striker': 'Mohammad Hafeez', 'runs': {'batsman': 1, 'extras': 0, 'total': 1}}}, {18.1: {'batsman': 'BB McCullum', 'bowler': 'JH Kallis', 'non_striker': 'Mohammad Hafeez', 'runs': {'batsman': 6, 'extras': 0, 'total': 6}}}, {18.2: {'batsman': 'BB McCullum', 'bowler': 'JH Kallis', 'non_striker': 'Mohammad Hafeez', 'runs': {'batsman': 0, 'extras': 0, 'total': 0}}}, {18.3: {'batsman': 'BB McCullum', 'bowler': 'JH Kallis', 'non_striker': 'Mohammad Hafeez', 'runs': {'batsman': 6, 'extras': 0, 'total': 6}}}, {18.4: {'batsman': 'BB McCullum', 'bowler': 'JH Kallis', 'non_striker': 'Mohammad Hafeez', 'runs': {'batsman': 4, 'extras': 0, 'total': 4}}}, {18.5: {'batsman': 'BB McCullum', 'bowler': 'JH Kallis', 'non_striker': 'Mohammad Hafeez', 'runs': {'batsman': 1, 'extras': 0, 'total': 1}}}, {18.6: {'batsman': 'Mohammad Hafeez', 'bowler': 'JH Kallis', 'non_striker': 'BB McCullum', 'runs': {'batsman': 4, 'extras': 0, 'total': 4}}}, {19.1: {'batsman': 'BB McCullum', 'bowler': 'P Kumar', 'non_striker': 'Mohammad Hafeez', 'runs': {'batsman': 6, 'extras': 0, 'total': 6}}}, {19.2: {'batsman': 'BB McCullum', 'bowler': 'P Kumar', 'non_striker': 'Mohammad Hafeez', 'runs': {'batsman': 6, 'extras': 0, 'total': 6}}}, {19.3: {'batsman': 'BB McCullum', 'bowler': 'P Kumar', 'non_striker': 'Mohammad Hafeez', 'runs': {'batsman': 2, 'extras': 0, 'total': 2}}}, {19.4: {'batsman': 'BB McCullum', 'bowler': 'P Kumar', 'non_striker': 'Mohammad Hafeez', 'runs': {'batsman': 0, 'extras': 0, 'total': 0}}}, {19.5: {'batsman': 'BB McCullum', 'bowler': 'P Kumar', 'non_striker': 'Mohammad Hafeez', 'runs': {'batsman': 2, 'extras': 0, 'total': 2}}}, {19.6: {'batsman': 'BB McCullum', 'bowler': 'P Kumar', 'non_striker': 'Mohammad Hafeez', 'runs': {'batsman': 6, 'extras': 0, 'total': 6}}}]}}, {'2nd innings': {'team': 'Royal Challengers Bangalore', 'deliveries': [{0.1: {'batsman': 'R Dravid', 'bowler': 'AB Dinda', 'non_striker': 'W Jaffer', 'runs': {'batsman': 1, 'extras': 0, 'total': 1}}}, {0.2: {'batsman': 'W Jaffer', 'bowler': 'AB Dinda', 'extras': {'wides': 1}, 'non_striker': 'R Dravid', 'runs': {'batsman': 0, 'extras': 1, 'total': 1}}}, {0.3: {'batsman': 'W Jaffer', 'bowler': 'AB Dinda', 'non_striker': 'R Dravid', 'runs': {'batsman': 0, 'extras': 0, 'total': 0}}}, {0.4: {'batsman': 'W Jaffer', 'bowler': 'AB Dinda', 'non_striker': 'R Dravid', 'runs': {'batsman': 1, 'extras': 0, 'total': 1}}}, {0.5: {'batsman': 'R Dravid', 'bowler': 'AB Dinda', 'non_striker': 'W Jaffer', 'runs': {'batsman': 1, 'extras': 0, 'total': 1}}}, {0.6: {'batsman': 'W Jaffer', 'bowler': 'AB Dinda', 'non_striker': 'R Dravid', 'runs': {'batsman': 0, 'extras': 0, 'total': 0}}}, {0.7: {'batsman': 'W Jaffer', 'bowler': 'AB Dinda', 'non_striker': 'R Dravid', 'runs': {'batsman': 0, 'extras': 0, 'total': 0}}}, {1.1: {'batsman': 'R Dravid', 'bowler': 'I Sharma', 'non_striker': 'W Jaffer', 'runs': {'batsman': 0, 'extras': 0, 'total': 0}, 'wicket': {'kind': 'bowled', 'player_out': 'R Dravid'}}}, {1.2: {'batsman': 'V Kohli', 'bowler': 'I Sharma', 'non_striker': 'W Jaffer', 'runs': {'batsman': 0, 'extras': 0, 'total': 0}}}, {1.3: {'batsman': 'V Kohli', 'bowler': 'I Sharma', 'extras': {'legbyes': 4}, 'non_striker': 'W Jaffer', 'runs': {'batsman': 0, 'extras': 4, 'total': 4}}}, {1.4: {'batsman': 'V Kohli', 'bowler': 'I Sharma', 'non_striker': 'W Jaffer', 'runs': {'batsman': 1, 'extras': 0, 'total': 1}}}, {1.5: {'batsman': 'W Jaffer', 'bowler': 'I Sharma', 'non_striker': 'V Kohli', 'runs': {'batsman': 0, 'extras': 0, 'total': 0}}}, {1.6: {'batsman': 'W Jaffer', 'bowler': 'I Sharma', 'non_striker': 'V Kohli', 'runs': {'batsman': 0, 'extras': 0, 'total': 0}}}, {2.1: {'batsman': 'V Kohli', 'bowler': 'AB Dinda', 'non_striker': 'W Jaffer', 'runs': {'batsman': 0, 'extras': 0, 'total': 0}}}, {2.2: {'batsman': 'V Kohli', 'bowler': 'AB Dinda', 'non_striker': 'W Jaffer', 'runs': {'batsman': 0, 'extras': 0, 'total': 0}, 'wicket': {'kind': 'bowled', 'player_out': 'V Kohli'}}}, {2.3: {'batsman': 'JH Kallis', 'bowler': 'AB Dinda', 'non_striker': 'W Jaffer', 'runs': {'batsman': 1, 'extras': 0, 'total': 1}}}, {2.4: {'batsman': 'W Jaffer', 'bowler': 'AB Dinda', 'non_striker': 'JH Kallis', 'runs': {'batsman': 0, 'extras': 0, 'total': 0}}}, {2.5: {'batsman': 'W Jaffer', 'bowler': 'AB Dinda', 'extras': {'wides': 1}, 'non_striker': 'JH Kallis', 'runs': {'batsman': 0, 'extras': 1, 'total': 1}}}, {2.6: {'batsman': 'W Jaffer', 'bowler': 'AB Dinda', 'non_striker': 'JH Kallis', 'runs': {'batsman': 0, 'extras': 0, 'total': 0}}}, {2.7: {'batsman': 'W Jaffer', 'bowler': 'AB Dinda', 'non_striker': 'JH Kallis', 'runs': {'batsman': 1, 'extras': 0, 'total': 1}}}, {3.1: {'batsman': 'W Jaffer', 'bowler': 'I Sharma', 'non_striker': 'JH Kallis', 'runs': {'batsman': 2, 'extras': 0, 'total': 2}}}, {3.2: {'batsman': 'W Jaffer', 'bowler': 'I Sharma', 'non_striker': 'JH Kallis', 'runs': {'batsman': 1, 'extras': 0, 'total': 1}}}, {3.3: {'batsman': 'JH Kallis', 'bowler': 'I Sharma', 'non_striker': 'W Jaffer', 'runs': {'batsman': 0, 'extras': 0, 'total': 0}}}, {3.4: {'batsman': 'JH Kallis', 'bowler': 'I Sharma', 'extras': {'legbyes': 1}, 'non_striker': 'W Jaffer', 'runs': {'batsman': 0, 'extras': 1, 'total': 1}}}, {3.5: {'batsman': 'W Jaffer', 'bowler': 'I Sharma', 'non_striker': 'JH Kallis', 'runs': {'batsman': 0, 'extras': 0, 'total': 0}}}, {3.6: {'batsman': 'W Jaffer', 'bowler': 'I Sharma', 'non_striker': 'JH Kallis', 'runs': {'batsman': 0, 'extras': 0, 'total': 0}}}, {4.1: {'batsman': 'JH Kallis', 'bowler': 'AB Agarkar', 'non_striker': 'W Jaffer', 'runs': {'batsman': 1, 'extras': 0, 'total': 1}}}, {4.2: {'batsman': 'W Jaffer', 'bowler': 'AB Agarkar', 'non_striker': 'JH Kallis', 'runs': {'batsman': 1, 'extras': 0, 'total': 1}}}, {4.3: {'batsman': 'JH Kallis', 'bowler': 'AB Agarkar', 'non_striker': 'W Jaffer', 'runs': {'batsman': 0, 'extras': 0, 'total': 0}}}, {4.4: {'batsman': 'JH Kallis', 'bowler': 'AB Agarkar', 'non_striker': 'W Jaffer', 'runs': {'batsman': 6, 'extras': 0, 'total': 6}}}, {4.5: {'batsman': 'JH Kallis', 'bowler': 'AB Agarkar', 'non_striker': 'W Jaffer', 'runs': {'batsman': 0, 'extras': 0, 'total': 0}, 'wicket': {'fielders': ['M Kartik'], 'kind': 'caught', 'player_out': 'JH Kallis'}}}, {4.6: {'batsman': 'CL White', 'bowler': 'AB Agarkar', 'non_striker': 'W Jaffer', 'runs': {'batsman': 0, 'extras': 0, 'total': 0}}}, {5.1: {'batsman': 'W Jaffer', 'bowler': 'AB Dinda', 'non_striker': 'CL White', 'runs': {'batsman': 0, 'extras': 0, 'total': 0}}}, {5.2: {'batsman': 'W Jaffer', 'bowler': 'AB Dinda', 'non_striker': 'CL White', 'runs': {'batsman': 0, 'extras': 0, 'total': 0}, 'wicket': {'fielders': ['RT Ponting'], 'kind': 'caught', 'player_out': 'W Jaffer'}}}, {5.3: {'batsman': 'MV Boucher', 'bowler': 'AB Dinda', 'non_striker': 'CL White', 'runs': {'batsman': 0, 'extras': 0, 'total': 0}}}, {5.4: {'batsman': 'MV Boucher', 'bowler': 'AB Dinda', 'non_striker': 'CL White', 'runs': {'batsman': 1, 'extras': 0, 'total': 1}}}, {5.5: {'batsman': 'CL White', 'bowler': 'AB Dinda', 'non_striker': 'MV Boucher', 'runs': {'batsman': 1, 'extras': 0, 'total': 1}}}, {5.6: {'batsman': 'MV Boucher', 'bowler': 'AB Dinda', 'non_striker': 'CL White', 'runs': {'batsman': 0, 'extras': 0, 'total': 0}}}, {6.1: {'batsman': 'CL White', 'bowler': 'AB Agarkar', 'non_striker': 'MV Boucher', 'runs': {'batsman': 0, 'extras': 0, 'total': 0}}}, {6.2: {'batsman': 'CL White', 'bowler': 'AB Agarkar', 'non_striker': 'MV Boucher', 'runs': {'batsman': 0, 'extras': 0, 'total': 0}}}, {6.3: {'batsman': 'CL White', 'bowler': 'AB Agarkar', 'non_striker': 'MV Boucher', 'runs': {'batsman': 1, 'extras': 0, 'total': 1}}}, {6.4: {'batsman': 'MV Boucher', 'bowler': 'AB Agarkar', 'extras': {'wides': 1}, 'non_striker': 'CL White', 'runs': {'batsman': 0, 'extras': 1, 'total': 1}}}, {6.5: {'batsman': 'MV Boucher', 'bowler': 'AB Agarkar', 'extras': {'wides': 1}, 'non_striker': 'CL White', 'runs': {'batsman': 0, 'extras': 1, 'total': 1}}}, {6.6: {'batsman': 'MV Boucher', 'bowler': 'AB Agarkar', 'non_striker': 'CL White', 'runs': {'batsman': 0, 'extras': 0, 'total': 0}}}, {6.7: {'batsman': 'MV Boucher', 'bowler': 'AB Agarkar', 'non_striker': 'CL White', 'runs': {'batsman': 0, 'extras': 0, 'total': 0}}}, {6.8: {'batsman': 'MV Boucher', 'bowler': 'AB Agarkar', 'non_striker': 'CL White', 'runs': {'batsman': 4, 'extras': 0, 'total': 4}}}, {7.1: {'batsman': 'CL White', 'bowler': 'SC Ganguly', 'non_striker': 'MV Boucher', 'runs': {'batsman': 1, 'extras': 0, 'total': 1}}}, {7.2: {'batsman': 'MV Boucher', 'bowler': 'SC Ganguly', 'extras': {'legbyes': 1}, 'non_striker': 'CL White', 'runs': {'batsman': 0, 'extras': 1, 'total': 1}}}, {7.3: {'batsman': 'CL White', 'bowler': 'SC Ganguly', 'non_striker': 'MV Boucher', 'runs': {'batsman': 1, 'extras': 0, 'total': 1}}}, {7.4: {'batsman': 'MV Boucher', 'bowler': 'SC Ganguly', 'non_striker': 'CL White', 'runs': {'batsman': 2, 'extras': 0, 'total': 2}}}, {7.5: {'batsman': 'MV Boucher', 'bowler': 'SC Ganguly', 'non_striker': 'CL White', 'runs': {'batsman': 0, 'extras': 0, 'total': 0}, 'wicket': {'fielders': ['M Kartik'], 'kind': 'caught', 'player_out': 'MV Boucher'}}}, {7.6: {'batsman': 'CL White', 'bowler': 'SC Ganguly', 'non_striker': 'B Akhil', 'runs': {'batsman': 0, 'extras': 0, 'total': 0}}}, {8.1: {'batsman': 'B Akhil', 'bowler': 'AB Agarkar', 'non_striker': 'CL White', 'runs': {'batsman': 0, 'extras': 0, 'total': 0}}}, {8.2: {'batsman': 'B Akhil', 'bowler': 'AB Agarkar', 'non_striker': 'CL White', 'runs': {'batsman': 0, 'extras': 0, 'total': 0}, 'wicket': {'fielders': ['RT Ponting'], 'kind': 'caught', 'player_out': 'B Akhil'}}}, {8.3: {'batsman': 'AA Noffke', 'bowler': 'AB Agarkar', 'non_striker': 'CL White', 'runs': {'batsman': 0, 'extras': 0, 'total': 0}}}, {8.4: {'batsman': 'AA Noffke', 'bowler': 'AB Agarkar', 'extras': {'wides': 1}, 'non_striker': 'CL White', 'runs': {'batsman': 0, 'extras': 1, 'total': 1}}}, {8.5: {'batsman': 'AA Noffke', 'bowler': 'AB Agarkar', 'extras': {'wides': 1}, 'non_striker': 'CL White', 'runs': {'batsman': 0, 'extras': 1, 'total': 1}}}, {8.6: {'batsman': 'AA Noffke', 'bowler': 'AB Agarkar', 'non_striker': 'CL White', 'runs': {'batsman': 1, 'extras': 0, 'total': 1}}}, {8.7: {'batsman': 'CL White', 'bowler': 'AB Agarkar', 'non_striker': 'AA Noffke', 'runs': {'batsman': 2, 'extras': 0, 'total': 2}}}, {8.8: {'batsman': 'CL White', 'bowler': 'AB Agarkar', 'non_striker': 'AA Noffke', 'runs': {'batsman': 0, 'extras': 0, 'total': 0}, 'wicket': {'fielders': ['WP Saha'], 'kind': 'caught', 'player_out': 'CL White'}}}, {9.1: {'batsman': 'AA Noffke', 'bowler': 'SC Ganguly', 'non_striker': 'P Kumar', 'runs': {'batsman': 1, 'extras': 0, 'total': 1}}}, {9.2: {'batsman': 'P Kumar', 'bowler': 'SC Ganguly', 'non_striker': 'AA Noffke', 'runs': {'batsman': 0, 'extras': 0, 'total': 0}}}, {9.3: {'batsman': 'P Kumar', 'bowler': 'SC Ganguly', 'non_striker': 'AA Noffke', 'runs': {'batsman': 0, 'extras': 0, 'total': 0}}}, {9.4: {'batsman': 'P Kumar', 'bowler': 'SC Ganguly', 'extras': {'wides': 1}, 'non_striker': 'AA Noffke', 'runs': {'batsman': 0, 'extras': 1, 'total': 1}}}, {9.5: {'batsman': 'P Kumar', 'bowler': 'SC Ganguly', 'extras': {'legbyes': 1}, 'non_striker': 'AA Noffke', 'runs': {'batsman': 0, 'extras': 1, 'total': 1}}}, {9.6: {'batsman': 'AA Noffke', 'bowler': 'SC Ganguly', 'non_striker': 'P Kumar', 'runs': {'batsman': 4, 'extras': 0, 'total': 4}}}, {9.7: {'batsman': 'AA Noffke', 'bowler': 'SC Ganguly', 'non_striker': 'P Kumar', 'runs': {'batsman': 1, 'extras': 0, 'total': 1}}}, {10.1: {'batsman': 'AA Noffke', 'bowler': 'AB Agarkar', 'non_striker': 'P Kumar', 'runs': {'batsman': 0, 'extras': 0, 'total': 0}}}, {10.2: {'batsman': 'AA Noffke', 'bowler': 'AB Agarkar', 'non_striker': 'P Kumar', 'runs': {'batsman': 0, 'extras': 0, 'total': 0}}}, {10.3: {'batsman': 'AA Noffke', 'bowler': 'AB Agarkar', 'non_striker': 'P Kumar', 'runs': {'batsman': 0, 'extras': 0, 'total': 0}}}, {10.4: {'batsman': 'AA Noffke', 'bowler': 'AB Agarkar', 'non_striker': 'P Kumar', 'runs': {'batsman': 1, 'extras': 0, 'total': 1}}}, {10.5: {'batsman': 'P Kumar', 'bowler': 'AB Agarkar', 'non_striker': 'AA Noffke', 'runs': {'batsman': 4, 'extras': 0, 'total': 4}}}, {10.6: {'batsman': 'P Kumar', 'bowler': 'AB Agarkar', 'non_striker': 'AA Noffke', 'runs': {'batsman': 0, 'extras': 0, 'total': 0}}}, {11.1: {'batsman': 'AA Noffke', 'bowler': 'SC Ganguly', 'non_striker': 'P Kumar', 'runs': {'batsman': 1, 'extras': 0, 'total': 1}, 'wicket': {'fielders': ['AB Agarkar', 'WP Saha'], 'kind': 'run out', 'player_out': 'AA Noffke'}}}, {11.2: {'batsman': 'Z Khan', 'bowler': 'SC Ganguly', 'non_striker': 'P Kumar', 'runs': {'batsman': 0, 'extras': 0, 'total': 0}}}, {11.3: {'batsman': 'Z Khan', 'bowler': 'SC Ganguly', 'non_striker': 'P Kumar', 'runs': {'batsman': 0, 'extras': 0, 'total': 0}}}, {11.4: {'batsman': 'Z Khan', 'bowler': 'SC Ganguly', 'non_striker': 'P Kumar', 'runs': {'batsman': 1, 'extras': 0, 'total': 1}}}, {11.5: {'batsman': 'P Kumar', 'bowler': 'SC Ganguly', 'non_striker': 'Z Khan', 'runs': {'batsman': 0, 'extras': 0, 'total': 0}}}, {11.6: {'batsman': 'P Kumar', 'bowler': 'SC Ganguly', 'non_striker': 'Z Khan', 'runs': {'batsman': 1, 'extras': 0, 'total': 1}}}, {12.1: {'batsman': 'P Kumar', 'bowler': 'LR Shukla', 'non_striker': 'Z Khan', 'runs': {'batsman': 6, 'extras': 0, 'total': 6}}}, {12.2: {'batsman': 'P Kumar', 'bowler': 'LR Shukla', 'extras': {'wides': 2}, 'non_striker': 'Z Khan', 'runs': {'batsman': 0, 'extras': 2, 'total': 2}}}, {12.3: {'batsman': 'Z Khan', 'bowler': 'LR Shukla', 'non_striker': 'P Kumar', 'runs': {'batsman': 1, 'extras': 0, 'total': 1}}}, {12.4: {'batsman': 'P Kumar', 'bowler': 'LR Shukla', 'non_striker': 'Z Khan', 'runs': {'batsman': 1, 'extras': 0, 'total': 1}}}, {12.5: {'batsman': 'Z Khan', 'bowler': 'LR Shukla', 'non_striker': 'P Kumar', 'runs': {'batsman': 0, 'extras': 0, 'total': 0}}}, {12.6: {'batsman': 'Z Khan', 'bowler': 'LR Shukla', 'non_striker': 'P Kumar', 'runs': {'batsman': 0, 'extras': 0, 'total': 0}}}, {12.7: {'batsman': 'Z Khan', 'bowler': 'LR Shukla', 'non_striker': 'P Kumar', 'runs': {'batsman': 1, 'extras': 0, 'total': 1}}}, {13.1: {'batsman': 'Z Khan', 'bowler': 'SC Ganguly', 'non_striker': 'P Kumar', 'runs': {'batsman': 0, 'extras': 0, 'total': 0}, 'wicket': {'kind': 'bowled', 'player_out': 'Z Khan'}}}, {13.2: {'batsman': 'SB Joshi', 'bowler': 'SC Ganguly', 'non_striker': 'P Kumar', 'runs': {'batsman': 1, 'extras': 0, 'total': 1}}}, {13.3: {'batsman': 'P Kumar', 'bowler': 'SC Ganguly', 'non_striker': 'SB Joshi', 'runs': {'batsman': 0, 'extras': 0, 'total': 0}}}, {13.4: {'batsman': 'P Kumar', 'bowler': 'SC Ganguly', 'non_striker': 'SB Joshi', 'runs': {'batsman': 0, 'extras': 0, 'total': 0}}}, {13.5: {'batsman': 'P Kumar', 'bowler': 'SC Ganguly', 'non_striker': 'SB Joshi', 'runs': {'batsman': 0, 'extras': 0, 'total': 0}}}, {13.6: {'batsman': 'P Kumar', 'bowler': 'SC Ganguly', 'non_striker': 'SB Joshi', 'runs': {'batsman': 6, 'extras': 0, 'total': 6}}}, {14.1: {'batsman': 'SB Joshi', 'bowler': 'I Sharma', 'extras': {'wides': 1}, 'non_striker': 'P Kumar', 'runs': {'batsman': 0, 'extras': 1, 'total': 1}}}, {14.2: {'batsman': 'SB Joshi', 'bowler': 'I Sharma', 'non_striker': 'P Kumar', 'runs': {'batsman': 0, 'extras': 0, 'total': 0}}}, {14.3: {'batsman': 'SB Joshi', 'bowler': 'I Sharma', 'non_striker': 'P Kumar', 'runs': {'batsman': 0, 'extras': 0, 'total': 0}}}, {14.4: {'batsman': 'SB Joshi', 'bowler': 'I Sharma', 'non_striker': 'P Kumar', 'runs': {'batsman': 1, 'extras': 0, 'total': 1}}}, {14.5: {'batsman': 'P Kumar', 'bowler': 'I Sharma', 'extras': {'legbyes': 1}, 'non_striker': 'SB Joshi', 'runs': {'batsman': 0, 'extras': 1, 'total': 1}}}, {14.6: {'batsman': 'SB Joshi', 'bowler': 'I Sharma', 'non_striker': 'P Kumar', 'runs': {'batsman': 1, 'extras': 0, 'total': 1}}}, {14.7: {'batsman': 'P Kumar', 'bowler': 'I Sharma', 'non_striker': 'SB Joshi', 'runs': {'batsman': 0, 'extras': 0, 'total': 0}}}, {15.1: {'batsman': 'SB Joshi', 'bowler': 'LR Shukla', 'extras': {'wides': 1}, 'non_striker': 'P Kumar', 'runs': {'batsman': 0, 'extras': 1, 'total': 1}}}, {15.2: {'batsman': 'SB Joshi', 'bowler': 'LR Shukla', 'non_striker': 'P Kumar', 'runs': {'batsman': 0, 'extras': 0, 'total': 0}, 'wicket': {'fielders': ['BB McCullum'], 'kind': 'caught', 'player_out': 'SB Joshi'}}}]}}]}\n"
          ],
          "name": "stdout"
        }
      ]
    },
    {
      "cell_type": "code",
      "metadata": {
        "id": "HWnhtlNM-X6t",
        "colab_type": "code",
        "colab": {}
      },
      "source": [
        "dataType = type(data)"
      ],
      "execution_count": 0,
      "outputs": []
    },
    {
      "cell_type": "code",
      "metadata": {
        "id": "CZTOX-JE-X62",
        "colab_type": "code",
        "outputId": "c47cadee-1bab-42ea-f932-81f59fd9f1e3",
        "colab": {
          "base_uri": "https://localhost:8080/",
          "height": 34
        }
      },
      "source": [
        "print(dataType)"
      ],
      "execution_count": 9,
      "outputs": [
        {
          "output_type": "stream",
          "text": [
            "<class 'dict'>\n"
          ],
          "name": "stdout"
        }
      ]
    },
    {
      "cell_type": "code",
      "metadata": {
        "id": "ytJUVwue-X7A",
        "colab_type": "code",
        "outputId": "30054968-0481-4bd5-f41b-06835ee6c456",
        "colab": {
          "base_uri": "https://localhost:8080/",
          "height": 34
        }
      },
      "source": [
        "city = data.get('info').get('city')\n",
        "venue = data.get('info').get('venue')\n",
        "print(\"The match was played in \"+city+\" city and venue was \"+venue)"
      ],
      "execution_count": 11,
      "outputs": [
        {
          "output_type": "stream",
          "text": [
            "The match was played in Bangalore city and venue was M Chinnaswamy Stadium\n"
          ],
          "name": "stdout"
        }
      ]
    },
    {
      "cell_type": "code",
      "metadata": {
        "id": "qmZ7U-eN-X7I",
        "colab_type": "code",
        "outputId": "7f71358d-a759-4a24-f065-43468b82ab07",
        "colab": {
          "base_uri": "https://localhost:8080/",
          "height": 51
        }
      },
      "source": [
        "teams = data.get('info').get('teams')\n",
        "print(\"Teams are \"+teams[0]+\" and \"+teams[1])\n",
        "print(\"Total teams are \"+ str(len(teams)))"
      ],
      "execution_count": 12,
      "outputs": [
        {
          "output_type": "stream",
          "text": [
            "Teams are Royal Challengers Bangalore and Kolkata Knight Riders\n",
            "Total teams are 2\n"
          ],
          "name": "stdout"
        }
      ]
    },
    {
      "cell_type": "code",
      "metadata": {
        "id": "XDN9RlFh-X7S",
        "colab_type": "code",
        "outputId": "ebabe535-cbfe-4d44-ba57-ff9b459df96a",
        "colab": {
          "base_uri": "https://localhost:8080/",
          "height": 34
        }
      },
      "source": [
        "toss = data.get('info').get('toss')\n",
        "print(toss.get('winner')+\" won the toss and decided to \"+toss.get('decision'))"
      ],
      "execution_count": 13,
      "outputs": [
        {
          "output_type": "stream",
          "text": [
            "Royal Challengers Bangalore won the toss and decided to field\n"
          ],
          "name": "stdout"
        }
      ]
    },
    {
      "cell_type": "code",
      "metadata": {
        "id": "7_SmQjqG-X7Z",
        "colab_type": "code",
        "outputId": "ce84464e-b89a-4e1c-af7d-fe09eb416b21",
        "colab": {
          "base_uri": "https://localhost:8080/",
          "height": 51
        }
      },
      "source": [
        "bowler = data.get('innings')[0].get('1st innings').get('deliveries')[0].get(0.1).get('bowler')\n",
        "batsman =  data.get('innings')[0].get('1st innings').get('deliveries')[0].get(0.1).get('batsman')\n",
        "print(\"In first inning first bowl was bowled by \"+bowler)\n",
        "print(\"First batsman who faced first bowl was \"+batsman)"
      ],
      "execution_count": 14,
      "outputs": [
        {
          "output_type": "stream",
          "text": [
            "In first inning first bowl was bowled by P Kumar\n",
            "First batsman who faced first bowl was SC Ganguly\n"
          ],
          "name": "stdout"
        }
      ]
    },
    {
      "cell_type": "code",
      "metadata": {
        "id": "1ftKHVGP-X7f",
        "colab_type": "code",
        "outputId": "21e7d619-3ff8-4ba3-cf77-b3fc3ea509d1",
        "colab": {
          "base_uri": "https://localhost:8080/",
          "height": 68
        }
      },
      "source": [
        "FirstInn_bowl = len(data.get('innings')[0].get('1st innings').get('deliveries'))\n",
        "SecondInn_bowl = len(data.get('innings')[1].get('2nd innings').get('deliveries'))\n",
        "Total_bowl = 120\n",
        "print(\"Total number of deliveries delivered in 1st innings \"+str(FirstInn_bowl))\n",
        "print(\"Total number of deliveries delivered in 2nd innings \"+str(SecondInn_bowl))\n",
        "print(\"Extra deliveries delivered in 1st innings \"+str(FirstInn_bowl-Total_bowl))"
      ],
      "execution_count": 15,
      "outputs": [
        {
          "output_type": "stream",
          "text": [
            "Total number of deliveries delivered in 1st innings 124\n",
            "Total number of deliveries delivered in 2nd innings 101\n",
            "Extra deliveries delivered in 1st innings 4\n"
          ],
          "name": "stdout"
        }
      ]
    },
    {
      "cell_type": "code",
      "metadata": {
        "id": "Icu-oO65-X7l",
        "colab_type": "code",
        "outputId": "a614c46c-511e-4ce2-e8f5-f12cc66222d2",
        "colab": {
          "base_uri": "https://localhost:8080/",
          "height": 34
        }
      },
      "source": [
        "print(data.get('info').get('outcome').get('winner')+\" won the match by \"+str(data.get('info').get('outcome').get('by').get('runs'))+\" runs\")"
      ],
      "execution_count": 16,
      "outputs": [
        {
          "output_type": "stream",
          "text": [
            "Kolkata Knight Riders won the match by 140 runs\n"
          ],
          "name": "stdout"
        }
      ]
    }
  ]
}